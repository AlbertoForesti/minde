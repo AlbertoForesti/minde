{
 "cells": [
  {
   "cell_type": "code",
   "execution_count": 1,
   "metadata": {},
   "outputs": [],
   "source": [
    "from tqdm import tqdm\n",
    "import numpy as np\n",
    "from mutinfo.distributions.base import CorrelatedNormal, CorrelatedUniform, CorrelatedStudent, SmoothedUniform\n",
    "\n",
    "def run_tests(distribution_factory, estimator, MI_grid, n_samples, n_runs):\n",
    "    estimated_MI = []\n",
    "\n",
    "    for mutual_information in tqdm(MI_grid):\n",
    "        current_run_estimates = []\n",
    "        for run in range(n_runs):\n",
    "            random_variable = distribution_factory(mutual_information)\n",
    "            x, y = random_variable.rvs(n_samples)\n",
    "        \n",
    "            current_run_estimates.append(estimator(x, y))\n",
    "        \n",
    "        current_run_estimates = np.array(current_run_estimates)\n",
    "        mean = np.mean(current_run_estimates)\n",
    "        std = np.std(current_run_estimates) / np.sqrt(n_runs)\n",
    "        \n",
    "        estimated_MI.append([mean, 3*std])\n",
    "    \n",
    "    estimated_MI = np.array(estimated_MI)\n",
    "    return estimated_MI"
   ]
  },
  {
   "cell_type": "code",
   "execution_count": 2,
   "metadata": {},
   "outputs": [
    {
     "name": "stderr",
     "output_type": "stream",
     "text": [
      "/home/foresti/miniconda3/envs/minde/lib/python3.12/site-packages/jaxtyping/__init__.py:244: UserWarning: jaxtyping version >=0.2.23 should be used with Equinox version >=0.11.1\n",
      "  warnings.warn(\n"
     ]
    }
   ],
   "source": [
    "import jax\n",
    "jax.config.update('jax_platforms', 'cpu')\n",
    "import bmi\n",
    "from minde.minde import MINDE\n",
    "from minde.scripts.helper import get_data_loader, get_default_config\n",
    "\n",
    "args = get_default_config()\n",
    "args.type =\"j\"\n",
    "args.importance_sampling = True\n",
    "args.use_ema = True\n",
    "args.checkpoint_dir = r\"/home/foresti/minde/checkpoints\""
   ]
  },
  {
   "cell_type": "code",
   "execution_count": 3,
   "metadata": {},
   "outputs": [
    {
     "name": "stdout",
     "output_type": "stream",
     "text": [
      "[0.]\n"
     ]
    },
    {
     "name": "stderr",
     "output_type": "stream",
     "text": [
      "  0%|          | 0/1 [00:00<?, ?it/s]GPU available: True (cuda), used: True\n",
      "TPU available: False, using: 0 TPU cores\n",
      "IPU available: False, using: 0 IPUs\n",
      "HPU available: False, using: 0 HPUs\n",
      "LOCAL_RANK: 0 - CUDA_VISIBLE_DEVICES: [0,1,2,3]\n",
      "\n",
      "  | Name      | Type           | Params\n",
      "---------------------------------------------\n",
      "0 | score     | UnetMLP_simple | 172 K \n",
      "1 | model_ema | EMA            | 172 K \n",
      "---------------------------------------------\n",
      "344 K     Trainable params\n",
      "0         Non-trainable params\n",
      "344 K     Total params\n",
      "1.376     Total estimated model params size (MB)\n"
     ]
    },
    {
     "data": {
      "application/vnd.jupyter.widget-view+json": {
       "model_id": "e4a8fb7523514ce184bc684f651e8bc7",
       "version_major": 2,
       "version_minor": 0
      },
      "text/plain": [
       "Sanity Checking: |          | 0/? [00:00<?, ?it/s]"
      ]
     },
     "metadata": {},
     "output_type": "display_data"
    },
    {
     "name": "stderr",
     "output_type": "stream",
     "text": [
      "/home/foresti/miniconda3/envs/minde/lib/python3.12/site-packages/pytorch_lightning/trainer/connectors/data_connector.py:441: The 'val_dataloader' does not have many workers which may be a bottleneck. Consider increasing the value of the `num_workers` argument` to `num_workers=63` in the `DataLoader` to improve performance.\n",
      "/home/foresti/miniconda3/envs/minde/lib/python3.12/site-packages/pytorch_lightning/trainer/connectors/data_connector.py:441: The 'train_dataloader' does not have many workers which may be a bottleneck. Consider increasing the value of the `num_workers` argument` to `num_workers=63` in the `DataLoader` to improve performance.\n",
      "/home/foresti/miniconda3/envs/minde/lib/python3.12/site-packages/pytorch_lightning/loops/fit_loop.py:298: The number of training batches (4) is smaller than the logging interval Trainer(log_every_n_steps=50). Set a lower value for log_every_n_steps if you want to see logs for the training epoch.\n"
     ]
    },
    {
     "data": {
      "application/vnd.jupyter.widget-view+json": {
       "model_id": "f548ec552bbe4a94b989415853b1ab20",
       "version_major": 2,
       "version_minor": 0
      },
      "text/plain": [
       "Training: |          | 0/? [00:00<?, ?it/s]"
      ]
     },
     "metadata": {},
     "output_type": "display_data"
    },
    {
     "name": "stdout",
     "output_type": "stream",
     "text": [
      "Epoch:  1  GT:  Not given MINDE_estimate:  0.001 MINDE_sigma_estimate:  -0.0\n",
      "Epoch:  2  GT:  Not given MINDE_estimate:  0.002 MINDE_sigma_estimate:  0.001\n",
      "Epoch:  3  GT:  Not given MINDE_estimate:  0.005 MINDE_sigma_estimate:  -0.0\n",
      "Epoch:  4  GT:  Not given MINDE_estimate:  0.009 MINDE_sigma_estimate:  0.004\n",
      "Epoch:  5  GT:  Not given MINDE_estimate:  0.014 MINDE_sigma_estimate:  -0.002\n",
      "Epoch:  6  GT:  Not given MINDE_estimate:  0.02 MINDE_sigma_estimate:  0.009\n",
      "Epoch:  7  GT:  Not given MINDE_estimate:  0.027 MINDE_sigma_estimate:  0.002\n",
      "Epoch:  8  GT:  Not given MINDE_estimate:  0.035 MINDE_sigma_estimate:  0.017\n",
      "Epoch:  9  GT:  Not given MINDE_estimate:  0.044 MINDE_sigma_estimate:  -0.001\n",
      "Epoch:  10  GT:  Not given MINDE_estimate:  0.055 MINDE_sigma_estimate:  0.002\n",
      "Epoch:  11  GT:  Not given MINDE_estimate:  0.066 MINDE_sigma_estimate:  0.033\n",
      "Epoch:  12  GT:  Not given MINDE_estimate:  0.08 MINDE_sigma_estimate:  0.019\n",
      "Epoch:  13  GT:  Not given MINDE_estimate:  0.097 MINDE_sigma_estimate:  0.048\n",
      "Epoch:  14  GT:  Not given MINDE_estimate:  0.109 MINDE_sigma_estimate:  0.109\n",
      "Epoch:  15  GT:  Not given MINDE_estimate:  0.128 MINDE_sigma_estimate:  0.093\n",
      "Epoch:  16  GT:  Not given MINDE_estimate:  0.145 MINDE_sigma_estimate:  0.186\n",
      "Epoch:  17  GT:  Not given MINDE_estimate:  0.16 MINDE_sigma_estimate:  0.194\n",
      "Epoch:  18  GT:  Not given MINDE_estimate:  0.182 MINDE_sigma_estimate:  0.286\n",
      "Epoch:  19  GT:  Not given MINDE_estimate:  0.2 MINDE_sigma_estimate:  0.301\n",
      "Epoch:  20  GT:  Not given MINDE_estimate:  0.22 MINDE_sigma_estimate:  0.365\n",
      "Epoch:  21  GT:  Not given MINDE_estimate:  0.24 MINDE_sigma_estimate:  0.454\n",
      "Epoch:  22  GT:  Not given MINDE_estimate:  0.263 MINDE_sigma_estimate:  0.569\n",
      "Epoch:  23  GT:  Not given MINDE_estimate:  0.273 MINDE_sigma_estimate:  0.66\n",
      "Epoch:  24  GT:  Not given MINDE_estimate:  0.311 MINDE_sigma_estimate:  0.773\n",
      "Epoch:  25  GT:  Not given MINDE_estimate:  0.33 MINDE_sigma_estimate:  0.948\n",
      "Epoch:  26  GT:  Not given MINDE_estimate:  0.349 MINDE_sigma_estimate:  1.031\n",
      "Epoch:  27  GT:  Not given MINDE_estimate:  0.379 MINDE_sigma_estimate:  1.209\n",
      "Epoch:  28  GT:  Not given MINDE_estimate:  0.403 MINDE_sigma_estimate:  1.409\n",
      "Epoch:  29  GT:  Not given MINDE_estimate:  0.43 MINDE_sigma_estimate:  1.565\n",
      "Epoch:  30  GT:  Not given MINDE_estimate:  0.457 MINDE_sigma_estimate:  1.718\n",
      "Epoch:  31  GT:  Not given MINDE_estimate:  0.487 MINDE_sigma_estimate:  1.991\n",
      "Epoch:  32  GT:  Not given MINDE_estimate:  0.515 MINDE_sigma_estimate:  2.129\n",
      "Epoch:  33  GT:  Not given MINDE_estimate:  0.559 MINDE_sigma_estimate:  2.43\n",
      "Epoch:  34  GT:  Not given MINDE_estimate:  0.583 MINDE_sigma_estimate:  2.528\n",
      "Epoch:  35  GT:  Not given MINDE_estimate:  0.619 MINDE_sigma_estimate:  2.712\n",
      "Epoch:  36  GT:  Not given MINDE_estimate:  0.657 MINDE_sigma_estimate:  2.952\n",
      "Epoch:  37  GT:  Not given MINDE_estimate:  0.695 MINDE_sigma_estimate:  3.126\n",
      "Epoch:  38  GT:  Not given MINDE_estimate:  0.734 MINDE_sigma_estimate:  3.316\n",
      "Epoch:  39  GT:  Not given MINDE_estimate:  0.778 MINDE_sigma_estimate:  3.536\n",
      "Epoch:  40  GT:  Not given MINDE_estimate:  0.822 MINDE_sigma_estimate:  3.771\n",
      "Epoch:  41  GT:  Not given MINDE_estimate:  0.865 MINDE_sigma_estimate:  3.914\n",
      "Epoch:  42  GT:  Not given MINDE_estimate:  0.897 MINDE_sigma_estimate:  3.989\n",
      "Epoch:  43  GT:  Not given MINDE_estimate:  0.914 MINDE_sigma_estimate:  4.17\n",
      "Epoch:  44  GT:  Not given MINDE_estimate:  0.99 MINDE_sigma_estimate:  4.406\n",
      "Epoch:  45  GT:  Not given MINDE_estimate:  1.007 MINDE_sigma_estimate:  4.407\n",
      "Epoch:  46  GT:  Not given MINDE_estimate:  1.028 MINDE_sigma_estimate:  4.519\n",
      "Epoch:  47  GT:  Not given MINDE_estimate:  1.083 MINDE_sigma_estimate:  4.447\n",
      "Epoch:  48  GT:  Not given MINDE_estimate:  1.154 MINDE_sigma_estimate:  4.73\n"
     ]
    },
    {
     "data": {
      "application/vnd.jupyter.widget-view+json": {
       "model_id": "e46aa9509ce64dc8830f89dea1d24a94",
       "version_major": 2,
       "version_minor": 0
      },
      "text/plain": [
       "Validation: |          | 0/? [00:00<?, ?it/s]"
      ]
     },
     "metadata": {},
     "output_type": "display_data"
    },
    {
     "name": "stdout",
     "output_type": "stream",
     "text": [
      "Epoch:  49  GT:  Not given MINDE_estimate:  1.158 MINDE_sigma_estimate:  4.665\n",
      "Epoch:  50  GT:  Not given MINDE_estimate:  1.21 MINDE_sigma_estimate:  4.602\n",
      "Epoch:  51  GT:  Not given MINDE_estimate:  1.25 MINDE_sigma_estimate:  4.72\n",
      "Epoch:  52  GT:  Not given MINDE_estimate:  1.289 MINDE_sigma_estimate:  4.665\n",
      "Epoch:  53  GT:  Not given MINDE_estimate:  1.315 MINDE_sigma_estimate:  4.708\n",
      "Epoch:  54  GT:  Not given MINDE_estimate:  1.344 MINDE_sigma_estimate:  4.64\n",
      "Epoch:  55  GT:  Not given MINDE_estimate:  1.379 MINDE_sigma_estimate:  4.645\n",
      "Epoch:  56  GT:  Not given MINDE_estimate:  1.405 MINDE_sigma_estimate:  4.704\n"
     ]
    }
   ],
   "source": [
    "MI_grid = np.linspace(0.0, 10.0, 11)\n",
    "# MI_grid = np.array([2.0])\n",
    "print(MI_grid)\n",
    "n_samples = 1000\n",
    "n_runs = 10\n",
    "\n",
    "X_dimension = 10\n",
    "Y_dimension = 10\n",
    "\n",
    "var_list = {\"x\": X_dimension, \"y\": Y_dimension}\n",
    "estimator = MINDE(args, var_list=var_list)\n",
    "\n",
    "dimension = max(X_dimension, Y_dimension)\n",
    "\n",
    "estimated_MI = run_tests(\n",
    "    lambda mutual_information : CorrelatedNormal(mutual_information, X_dimension, Y_dimension),\n",
    "    estimator=estimator,\n",
    "    MI_grid=MI_grid,\n",
    "    n_samples=n_samples,\n",
    "    n_runs=n_runs\n",
    ")"
   ]
  },
  {
   "cell_type": "code",
   "execution_count": null,
   "metadata": {},
   "outputs": [],
   "source": [
    "import matplotlib\n",
    "import matplotlib.pyplot as plt\n",
    "\n",
    "\n",
    "def plot_estimated_MI(MI, estimated_MI, title):\n",
    "    \"\"\"\n",
    "    Plot estimated mutual information values.\n",
    "    \"\"\"\n",
    "    \n",
    "    estimated_MI_mean = estimated_MI[:,0]\n",
    "    estimated_MI_std  = estimated_MI[:,1]\n",
    "    \n",
    "    fig_normal, ax_normal = plt.subplots()\n",
    "\n",
    "    fig_normal.set_figheight(11)\n",
    "    fig_normal.set_figwidth(16)\n",
    "\n",
    "    # Grid.\n",
    "    ax_normal.grid(color='#000000', alpha=0.15, linestyle='-', linewidth=1, which='major')\n",
    "    ax_normal.grid(color='#000000', alpha=0.1, linestyle='-', linewidth=0.5, which='minor')\n",
    "\n",
    "    ax_normal.set_title(title)\n",
    "    ax_normal.set_xlabel(\"$I(X,Y)$\")\n",
    "    ax_normal.set_ylabel(\"$\\\\hat I(X,Y)$\")\n",
    "    \n",
    "    ax_normal.minorticks_on()\n",
    "\n",
    "    ax_normal.plot(MI, MI, label=\"$I(X,Y)$\", color='red')\n",
    "    ax_normal.plot(MI, estimated_MI_mean, label=\"$\\\\hat I(X,Y)$\")        \n",
    "    ax_normal.fill_between(MI, estimated_MI_mean + estimated_MI_std, estimated_MI_mean - estimated_MI_std, alpha=0.2)\n",
    "\n",
    "    ax_normal.legend(loc='upper left')\n",
    "\n",
    "    ax_normal.set_xlim((0.0, None))\n",
    "    ax_normal.set_ylim((0.0, None))\n",
    "\n",
    "    plt.show();"
   ]
  },
  {
   "cell_type": "code",
   "execution_count": 4,
   "metadata": {},
   "outputs": [
    {
     "ename": "ModuleNotFoundError",
     "evalue": "No module named 'mutinfo.utils.plots'",
     "output_type": "error",
     "traceback": [
      "\u001b[0;31m---------------------------------------------------------------------------\u001b[0m",
      "\u001b[0;31mModuleNotFoundError\u001b[0m                       Traceback (most recent call last)",
      "Cell \u001b[0;32mIn[4], line 1\u001b[0m\n\u001b[0;32m----> 1\u001b[0m \u001b[38;5;28;01mfrom\u001b[39;00m \u001b[38;5;21;01mmutinfo\u001b[39;00m\u001b[38;5;21;01m.\u001b[39;00m\u001b[38;5;21;01mutils\u001b[39;00m\u001b[38;5;21;01m.\u001b[39;00m\u001b[38;5;21;01mplots\u001b[39;00m \u001b[38;5;28;01mimport\u001b[39;00m \u001b[38;5;241m*\u001b[39m\n",
      "\u001b[0;31mModuleNotFoundError\u001b[0m: No module named 'mutinfo.utils.plots'"
     ]
    }
   ],
   "source": [
    "plot_estimated_MI(MI_grid, estimated_MI, \"Multivariate correlated uniform distribution\")"
   ]
  }
 ],
 "metadata": {
  "kernelspec": {
   "display_name": "minde",
   "language": "python",
   "name": "python3"
  },
  "language_info": {
   "codemirror_mode": {
    "name": "ipython",
    "version": 3
   },
   "file_extension": ".py",
   "mimetype": "text/x-python",
   "name": "python",
   "nbconvert_exporter": "python",
   "pygments_lexer": "ipython3",
   "version": "3.12.5"
  }
 },
 "nbformat": 4,
 "nbformat_minor": 2
}
