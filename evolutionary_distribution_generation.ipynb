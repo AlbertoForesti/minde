{
 "cells": [
  {
   "cell_type": "code",
   "execution_count": 1,
   "metadata": {},
   "outputs": [],
   "source": [
    "from minde.libs.distribution_generator import EvolutionTask"
   ]
  },
  {
   "cell_type": "code",
   "execution_count": 2,
   "metadata": {},
   "outputs": [
    {
     "name": "stderr",
     "output_type": "stream",
     "text": [
      "  0%|          | 0/300 [00:00<?, ?it/s]"
     ]
    },
    {
     "name": "stderr",
     "output_type": "stream",
     "text": [
      "Best fitness: -1.1047600056990348e-07: 100%|██████████| 300/300 [05:10<00:00,  1.03s/it]"
     ]
    },
    {
     "name": "stdout",
     "output_type": "stream",
     "text": [
      "10000\n",
      "-inf\n",
      "[[6.59904941e-03 1.08340173e-02 5.28408040e-04 1.66708315e-03\n",
      "  3.03812457e-02 1.78171796e-03 4.94877217e-04 4.07145267e-04\n",
      "  5.05125784e-02 1.00636283e-03]\n",
      " [2.09751435e-03 2.47602218e-03 4.32567090e-02 1.69321617e-02\n",
      "  1.08998225e-03 4.02169196e-04 2.86407570e-04 2.73043239e-04\n",
      "  7.27237410e-04 2.79168106e-02]\n",
      " [1.79653156e-05 4.43329470e-02 2.88276098e-04 7.94414683e-04\n",
      "  4.67384672e-04 4.20839051e-04 2.91174677e-04 3.84284588e-02\n",
      "  2.94457204e-02 6.91669830e-04]\n",
      " [1.23492472e-03 8.32814422e-04 8.81254036e-04 2.48172806e-02\n",
      "  1.00939498e-04 2.46963161e-04 5.87931363e-02 2.49155383e-02\n",
      "  4.98752838e-04 1.22515213e-03]\n",
      " [2.89194916e-02 1.20103374e-03 1.65425705e-03 2.90763790e-03\n",
      "  9.31934235e-04 1.50547884e-04 2.14398837e-03 1.24547957e-03\n",
      "  1.32891015e-04 3.89534900e-02]\n",
      " [7.20499194e-04 6.74233664e-05 4.75060784e-04 1.50068690e-04\n",
      "  2.66525027e-02 3.87425787e-02 2.11088445e-03 1.63751739e-03\n",
      "  3.47052749e-02 2.16814965e-03]\n",
      " [4.02351386e-07 4.13788277e-02 8.43722654e-04 4.49937208e-02\n",
      "  1.44007364e-03 3.60105970e-03 2.82929600e-03 9.83768699e-04\n",
      "  1.61378569e-03 2.54034647e-04]\n",
      " [1.41826814e-02 1.95960827e-03 5.08740228e-02 6.47545672e-04\n",
      "  2.24579925e-02 1.83686548e-03 4.24590602e-04 1.59712621e-04\n",
      "  2.08719633e-03 2.24754529e-03]\n",
      " [1.73980478e-02 4.54841411e-03 1.04561309e-04 8.34889361e-04\n",
      "  1.51080761e-04 1.42473056e-03 8.02770998e-04 4.88608975e-02\n",
      "  8.15437985e-04 2.46210756e-02]\n",
      " [9.85934119e-04 4.86731556e-04 2.66152492e-03 1.57642081e-04\n",
      "  2.19118351e-02 4.70393423e-02 1.52237440e-02 2.74661522e-04\n",
      "  1.07937645e-03 1.73398841e-03]]\n",
      "0.998253639319546\n"
     ]
    },
    {
     "name": "stderr",
     "output_type": "stream",
     "text": [
      "\n"
     ]
    }
   ],
   "source": [
    "task = EvolutionTask(1.0, dim_x=10, dim_y=10, mu=2000, population_size=10000, scale=1.0)\n",
    "task.train(n_generations=300, temperature=0.5)\n",
    "print(len(task.agents))\n",
    "print(task.best_agent.fitness)\n",
    "print(task.best_agent.distribution)\n",
    "\n",
    "dist = task.best_agent.distribution\n",
    "print(task.mutual_information(dist))"
   ]
  },
  {
   "cell_type": "code",
   "execution_count": 3,
   "metadata": {},
   "outputs": [],
   "source": [
    "np.save(r\"/home/foresti/minde/discrete_distributions/best_distribution_dim10_mutinfo01.npy\", dist)"
   ]
  },
  {
   "cell_type": "code",
   "execution_count": 4,
   "metadata": {},
   "outputs": [
    {
     "data": {
      "text/plain": [
       "<matplotlib.colorbar.Colorbar at 0x7f3916b932f0>"
      ]
     },
     "execution_count": 4,
     "metadata": {},
     "output_type": "execute_result"
    },
    {
     "data": {
      "image/png": "[encoded data removed]",
      "text/plain": [
       "<Figure size 640x480 with 2 Axes>"
      ]
     },
     "metadata": {},
     "output_type": "display_data"
    }
   ],
   "source": [
    "from matplotlib import pyplot as plt\n",
    "plt.imshow(dist)\n",
    "# put a scale on the side\n",
    "plt.colorbar()"
   ]
  }
 ],
 "metadata": {
  "kernelspec": {
   "display_name": "minde",
   "language": "python",
   "name": "python3"
  },
  "language_info": {
   "codemirror_mode": {
    "name": "ipython",
    "version": 3
   },
   "file_extension": ".py",
   "mimetype": "text/x-python",
   "name": "python",
   "nbconvert_exporter": "python",
   "pygments_lexer": "ipython3",
   "version": "3.12.5"
  }
 },
 "nbformat": 4,
 "nbformat_minor": 2
}
