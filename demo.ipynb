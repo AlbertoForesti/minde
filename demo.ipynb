{
 "cells": [
  {
   "cell_type": "code",
   "execution_count": 1,
   "metadata": {},
   "outputs": [
    {
     "name": "stderr",
     "output_type": "stream",
     "text": [
      "/home/bounoua/work/minde/myvenv/lib/python3.9/site-packages/jaxtyping/__init__.py:244: UserWarning: jaxtyping version >=0.2.23 should be used with Equinox version >=0.11.1\n",
      "  warnings.warn(\n"
     ]
    }
   ],
   "source": [
    "\n",
    "import jax\n",
    "jax.config.update('jax_platforms', 'cpu')\n",
    "import bmi\n",
    "from src.libs.minde import MINDE\n",
    "from scripts.helper import get_data_loader, get_default_config\n",
    "from argparse import Namespace\n"
   ]
  },
  {
   "cell_type": "code",
   "execution_count": 2,
   "metadata": {},
   "outputs": [
    {
     "data": {
      "text/plain": [
       "{'1v1-normal-0.75': <bmi.benchmark.task.Task at 0x7fd1c5161220>,\n",
       " 'normal_cdf-1v1-normal-0.75': <bmi.benchmark.task.Task at 0x7fd1c51614c0>,\n",
       " '1v1-additive-0.1': <bmi.benchmark.task.Task at 0x7fd1c5161a90>,\n",
       " '1v1-additive-0.75': <bmi.benchmark.task.Task at 0x7fd1c4870e50>,\n",
       " '1v1-bimodal-0.75': <bmi.benchmark.task.Task at 0x7fd1c480c340>,\n",
       " 'wiggly-1v1-normal-0.75': <bmi.benchmark.task.Task at 0x7fd1c488a8e0>,\n",
       " 'half_cube-1v1-normal-0.75': <bmi.benchmark.task.Task at 0x7fd1c480c910>,\n",
       " 'student-identity-1-1-1': <bmi.benchmark.task.Task at 0x7fd1c5161820>,\n",
       " 'asinh-student-identity-1-1-1': <bmi.benchmark.task.Task at 0x7fd1c480cd00>,\n",
       " 'swissroll_x-normal_cdf-1v1-normal-0.75': <bmi.benchmark.task.Task at 0x7fd1c480f130>,\n",
       " 'multinormal-dense-2-2-0.5': <bmi.benchmark.task.Task at 0x7fd1c480f520>,\n",
       " 'multinormal-dense-3-3-0.5': <bmi.benchmark.task.Task at 0x7fd1c480fa30>,\n",
       " 'multinormal-dense-5-5-0.5': <bmi.benchmark.task.Task at 0x7fd1c480faf0>,\n",
       " 'multinormal-dense-25-25-0.5': <bmi.benchmark.task.Task at 0x7fd1c480fcd0>,\n",
       " 'multinormal-dense-50-50-0.5': <bmi.benchmark.task.Task at 0x7fd1c480feb0>,\n",
       " 'multinormal-sparse-2-2-2-2.0': <bmi.benchmark.task.Task at 0x7fd1c4801040>,\n",
       " 'multinormal-sparse-3-3-2-2.0': <bmi.benchmark.task.Task at 0x7fd1c48010d0>,\n",
       " 'multinormal-sparse-5-5-2-2.0': <bmi.benchmark.task.Task at 0x7fd1c4801280>,\n",
       " 'multinormal-sparse-25-25-2-2.0': <bmi.benchmark.task.Task at 0x7fd1c4801460>,\n",
       " 'student-identity-2-2-1': <bmi.benchmark.task.Task at 0x7fd1c4801820>,\n",
       " 'student-identity-2-2-2': <bmi.benchmark.task.Task at 0x7fd1c4801a60>,\n",
       " 'student-identity-3-3-2': <bmi.benchmark.task.Task at 0x7fd1c4801c70>,\n",
       " 'student-identity-3-3-3': <bmi.benchmark.task.Task at 0x7fd1c4801e80>,\n",
       " 'student-identity-5-5-2': <bmi.benchmark.task.Task at 0x7fd1c48090d0>,\n",
       " 'student-identity-5-5-3': <bmi.benchmark.task.Task at 0x7fd1c48092e0>,\n",
       " 'normal_cdf-multinormal-sparse-3-3-2-2.0': <bmi.benchmark.task.Task at 0x7fd1c4809a90>,\n",
       " 'normal_cdf-multinormal-sparse-5-5-2-2.0': <bmi.benchmark.task.Task at 0x7fd1c4809e20>,\n",
       " 'normal_cdf-multinormal-sparse-25-25-2-2.0': <bmi.benchmark.task.Task at 0x7fd1c4790220>,\n",
       " 'half_cube-multinormal-sparse-3-3-2-2.0': <bmi.benchmark.task.Task at 0x7fd1c4790610>,\n",
       " 'half_cube-multinormal-sparse-5-5-2-2.0': <bmi.benchmark.task.Task at 0x7fd1c4790a00>,\n",
       " 'half_cube-multinormal-sparse-25-25-2-2.0': <bmi.benchmark.task.Task at 0x7fd1c4790df0>,\n",
       " 'spiral-multinormal-sparse-3-3-2-2.0': <bmi.benchmark.task.Task at 0x7fd1c4793340>,\n",
       " 'spiral-multinormal-sparse-5-5-2-2.0': <bmi.benchmark.task.Task at 0x7fd0703ae250>,\n",
       " 'spiral-multinormal-sparse-25-25-2-2.0': <bmi.benchmark.task.Task at 0x7fd0703cd580>,\n",
       " 'spiral-normal_cdf-multinormal-sparse-3-3-2-2.0': <bmi.benchmark.task.Task at 0x7fd070335ca0>,\n",
       " 'spiral-normal_cdf-multinormal-sparse-5-5-2-2.0': <bmi.benchmark.task.Task at 0x7fd07033b580>,\n",
       " 'spiral-normal_cdf-multinormal-sparse-25-25-2-2.0': <bmi.benchmark.task.Task at 0x7fd07033bdf0>,\n",
       " 'asinh-student-identity-2-2-1': <bmi.benchmark.task.Task at 0x7fd070340550>,\n",
       " 'asinh-student-identity-3-3-2': <bmi.benchmark.task.Task at 0x7fd070340a60>,\n",
       " 'asinh-student-identity-5-5-2': <bmi.benchmark.task.Task at 0x7fd070340f70>}"
      ]
     },
     "execution_count": 2,
     "metadata": {},
     "output_type": "execute_result"
    }
   ],
   "source": [
    "bmi.benchmark.BENCHMARK_TASKS"
   ]
  },
  {
   "cell_type": "code",
   "execution_count": 3,
   "metadata": {},
   "outputs": [
    {
     "data": {
      "text/plain": [
       "0.2938933324510593"
      ]
     },
     "execution_count": 3,
     "metadata": {},
     "output_type": "execute_result"
    }
   ],
   "source": [
    "bmi.benchmark.BENCHMARK_TASKS\n",
    "name_task = \"1v1-normal-0.75\"\n",
    "name_task=\"multinormal-dense-2-2-0.5\"\n",
    "task = bmi.benchmark.BENCHMARK_TASKS[name_task]\n",
    "task.mutual_information"
   ]
  },
  {
   "cell_type": "code",
   "execution_count": 4,
   "metadata": {},
   "outputs": [],
   "source": [
    "args = get_default_config()\n",
    "args.type =\"c\"\n",
    "args.test_epoch=1\n",
    "args.use_ema = False\n",
    "args.max_epochs=20\n",
    "args.bs =512\n",
    "args.lr = 1e-3\n",
    "args.arch = \"mlp\"\n",
    "args.importance_sampling = True\n",
    "args.use_ema = True\n",
    "\n",
    "\n"
   ]
  },
  {
   "cell_type": "code",
   "execution_count": 5,
   "metadata": {},
   "outputs": [],
   "source": [
    "train_l,test_l = get_data_loader(args,task)\n",
    "model = MINDE(args,var_list={\"x\":task.dim_x,\"y\":task.dim_y}, gt = task.mutual_information)\n",
    "#model.fit(train_l,test_l)\n",
    "\n"
   ]
  },
  {
   "cell_type": "code",
   "execution_count": 6,
   "metadata": {},
   "outputs": [],
   "source": [
    "import numpy \n",
    "import matplotlib.pyplot as plt\n",
    "\n",
    "def uniform_to_segment(x: numpy.array, min_length: float) -> numpy.array:\n",
    "    \"\"\"\n",
    "    Map a 2D uniformly distributed random vector to a random segment.\n",
    "    The coordinates of the ends are distributed uniformly, preserving order.\n",
    "    \n",
    "    Parameters\n",
    "    ----------\n",
    "    x : numpy.array\n",
    "        Samples from an uniform distribution on [0; 1]^2, shape: (?,2).\n",
    "    min_length : float, optional\n",
    "        Minimum length of the segment (must be in [0; 1)).\n",
    "\n",
    "    Returns\n",
    "    -------\n",
    "    coords : numpy.array\n",
    "        Coordinates of the ends of sampled random segments.\n",
    "    \"\"\"\n",
    "        \n",
    "    if len(x.shape) != 2 or x.shape[1] != 2:\n",
    "        raise TypeError(\"Parameter `x` must have shape (?,2)\")\n",
    "        \n",
    "    if not (0.0 <= min_length < 1.0):\n",
    "        raise ValueError(\"Parameter `min_length` must be in [0.0, 1.0)\")\n",
    "\n",
    "    coords = numpy.empty_like(x)\n",
    "\n",
    "    # The first number is the left end.\n",
    "    # It is linearly distributed from `0.0` to `1.0 - min_length`.\n",
    "    coords[:,0] = (1.0 - min_length) * (1.0 - numpy.sqrt(1.0 - x[:,0]))\n",
    "\n",
    "    # The last number is the right end.\n",
    "    # Given the left end (condition), it is uniformly distributed\n",
    "    # from the left end plus `min_length` to 1.0.\n",
    "    coords[:,1] = x[:,1] * (1.0 - coords[:,0] - min_length) + coords[:,0] + min_length\n",
    "\n",
    "    return coords\n",
    "\n",
    "\n",
    "def uniform_to_rectangle(x: numpy.array, min_width: float=0.0, min_height: float=0.0,\n",
    "                         max_width: float=1.0, max_height: float=1.0) -> numpy.array:\n",
    "    \"\"\"\n",
    "    Map a 4D uniformly distributed random vector to a random rectangle.\n",
    "    The coordinates of the corners are distributed uniformly, preserving order.\n",
    "    \n",
    "    Parameters\n",
    "    ----------\n",
    "    x : numpy.array\n",
    "        Samples from an uniform distribution on [0; 1]^4, shape: (?,4).\n",
    "    min_width : float, optional\n",
    "        Minimum width of the rectangle.\n",
    "    min_height : float, optional\n",
    "        Minimum height of the rectangle.\n",
    "    max_width : float, optional\n",
    "        Maximum width of the rectangle.\n",
    "    max_height : float, optional\n",
    "        Maximum height of the rectangle.\n",
    "\n",
    "    Returns\n",
    "    -------\n",
    "    coords : numpy.array\n",
    "        Coordinates of the corners of sampled random rectangles.\n",
    "    \"\"\"\n",
    "\n",
    "    if len(x.shape) != 2 or x.shape[1] != 4:\n",
    "        raise TypeError(\"Parameter `x` must have shape (?,2)\")\n",
    "\n",
    "    coords = numpy.empty_like(x)\n",
    "    coords[:,0:2] = uniform_to_segment(x[:,0:2], min_width  / max_width)  * max_width\n",
    "    coords[:,2:4] = uniform_to_segment(x[:,2:4], min_height / max_height) * max_height\n",
    "\n",
    "    return coords\n",
    "\n",
    "\n",
    "def draw_rectangle(coords: numpy.array, image_width: int, image_height: int) -> numpy.array:\n",
    "    \"\"\"\n",
    "    Map coordinates of rectangles to rasterized images of rectangles.\n",
    "    \n",
    "    Parameters\n",
    "    ----------\n",
    "    coords : numpy.array\n",
    "        Normalized coordinates of the corners of rectangles, shape: (?,4).\n",
    "    image_width : int\n",
    "        Image width in pixels.\n",
    "    image_height : int\n",
    "        Image height in pixels.\n",
    "    \"\"\"\n",
    "\n",
    "    if len(coords.shape) != 2 or coords.shape[1] != 4:\n",
    "        raise TypeError(\"Parameter `coords` must have shape (?,4)\")\n",
    "        \n",
    "    n_samples = coords.shape[0]\n",
    "\n",
    "    # Denormalized coordinates.\n",
    "    denormalized_coords = numpy.empty_like(coords)\n",
    "    denormalized_coords[:,0:2] = coords[:,0:2] * image_width\n",
    "    denormalized_coords[:,2:4] = coords[:,2:4] * image_height\n",
    "\n",
    "    #integer_denormalized_coords = denormalized_coords.astype(int)\n",
    "\n",
    "    # Grid.\n",
    "    grid_x = numpy.arange(image_width)\n",
    "    grid_y = numpy.arange(image_height)\n",
    "\n",
    "    # Images generation.\n",
    "    images_x = numpy.clip(numpy.minimum(grid_x[None,...] - denormalized_coords[:,0,None], denormalized_coords[:,1,None] - grid_x[None,...]), 0.0, 1.0)\n",
    "    images_y = numpy.clip(numpy.minimum(grid_y[None,...] - denormalized_coords[:,2,None], denormalized_coords[:,3,None] - grid_y[None,...]), 0.0, 1.0)\n",
    "    images = images_x[:,:,None] * images_y[:,None,:]\n",
    "\n",
    "    return images\n",
    "\n",
    "    # Run uniform_to_rectangle function\n",
    "    \n",
    "\n",
    "N = 10\n",
    "\n",
    "random_array = numpy.random.uniform(size=(N, 4))\n",
    "\n",
    "def to_images(random_array,res):\n",
    "    rectangle_coords = uniform_to_rectangle(random_array)\n",
    "    # Run draw_rectangle function\n",
    "  \n",
    "    images = draw_rectangle(rectangle_coords, res, res)\n",
    "    return images\n",
    "\n",
    "def plot_images(images):\n",
    "    \n",
    "    fig, axes = plt.subplots(1, len(images), figsize=(len(images), 1))\n",
    "    for i in range( len(images)):\n",
    "        \n",
    "        axes[i].imshow(images[i], cmap='gray')\n",
    "        axes[i].axis('off')\n",
    "    plt.show()"
   ]
  },
  {
   "cell_type": "code",
   "execution_count": 7,
   "metadata": {},
   "outputs": [],
   "source": [
    "import numpy as np \n",
    "def mi_to_rho(mi, dim):\n",
    "    result = np.sqrt(1 - np.exp(-2 * mi / dim))\n",
    "    return result\n",
    "\n",
    "def sample_correlated_gaussian(mi=0.5, dim=4, batch_size=128, to_cuda=False, cubic = False):\n",
    "    \"\"\"Generate samples from a correlated Gaussian distribution.\"\"\"\n",
    "    rho = mi_to_rho(mi, dim)\n",
    "    \n",
    "    mean = [0,0]\n",
    "    cov = [[1.0, rho],[rho, 1.0]]\n",
    "    x, y = np.random.multivariate_normal(mean, cov, batch_size * dim).T\n",
    "\n",
    "    x = x.reshape(-1, dim)\n",
    "    y = y.reshape(-1, dim)\n",
    "\n",
    "    if cubic:\n",
    "        y = y ** 3\n",
    "\n",
    "    if to_cuda:\n",
    "        x = torch.from_numpy(x).float().cuda()\n",
    "        #x = torch.cat([x, torch.randn_like(x).cuda() * 0.3], dim=-1)\n",
    "        y = torch.from_numpy(y).float().cuda()\n",
    "    return x, y"
   ]
  },
  {
   "cell_type": "code",
   "execution_count": 8,
   "metadata": {},
   "outputs": [
    {
     "name": "stdout",
     "output_type": "stream",
     "text": [
      "Estimated Mutual Information: 0.3412\n",
      "Range of X: [0.0001, 1.0000]\n",
      "Range of Y: [0.0000, 1.0000]\n"
     ]
    }
   ],
   "source": [
    "import numpy as np\n",
    "from scipy.stats import norm\n",
    "from sklearn.feature_selection import mutual_info_regression\n",
    "\n",
    "def generate_correlated_uniforms(dimension, n_samples, correlation):\n",
    "    # Step 1: Generate independent Gaussian variables\n",
    "    mean = np.zeros(2 * dimension)\n",
    "    cov = (1 - correlation) * np.eye(2 * dimension) + correlation * np.ones((2 * dimension, 2 * dimension))\n",
    "    \n",
    "    # Generate correlated Gaussian samples\n",
    "    Z = np.random.multivariate_normal(mean, cov, n_samples)\n",
    "    \n",
    "    # Step 2: Convert Gaussian samples to uniform samples using the CDF\n",
    "    U = norm.cdf(Z)\n",
    "\n",
    "    # U is now uniformly distributed between 0 and 1 with the specified correlation\n",
    "    return U[:, :dimension], U[:, dimension:]  \n",
    "\n",
    "def compute_mutual_information(X, Y):\n",
    "    # Flatten the arrays for mutual information calculation\n",
    "    X_flat = X.flatten().reshape(-1, 1)\n",
    "    Y_flat = Y.flatten()\n",
    "\n",
    "    # Estimate mutual information\n",
    "    mi = mutual_info_regression(X_flat, Y_flat, discrete_features=False)\n",
    "    return mi.mean()\n",
    "\n",
    "# Set parameters\n",
    "dimension = 4\n",
    "n_samples = 10000\n",
    "correlation = 0.7  # Adjust correlation factor\n",
    "\n",
    "# Generate correlated uniform variables\n",
    "X_corr, Y_corr = generate_correlated_uniforms(dimension, n_samples, correlation)\n",
    "\n",
    "# Compute mutual information\n",
    "mi = compute_mutual_information(X_corr, Y_corr)\n",
    "\n",
    "print(f\"Estimated Mutual Information: {mi:.4f}\")\n",
    "\n",
    "# Verify if the variables are uniform\n",
    "print(f\"Range of X: [{X_corr.min():.4f}, {X_corr.max():.4f}]\")\n",
    "print(f\"Range of Y: [{Y_corr.min():.4f}, {Y_corr.max():.4f}]\")"
   ]
  },
  {
   "cell_type": "code",
   "execution_count": 9,
   "metadata": {},
   "outputs": [
    {
     "data": {
      "image/png": "[encoded data removed]",
      "text/plain": [
       "<Figure size 800x100 with 8 Axes>"
      ]
     },
     "metadata": {},
     "output_type": "display_data"
    }
   ],
   "source": [
    "x = to_images(X_corr,6)\n",
    "plot_images(x[:8])"
   ]
  },
  {
   "cell_type": "code",
   "execution_count": 10,
   "metadata": {},
   "outputs": [
    {
     "data": {
      "image/png": "[encoded data removed]",
      "text/plain": [
       "<Figure size 800x100 with 8 Axes>"
      ]
     },
     "metadata": {},
     "output_type": "display_data"
    }
   ],
   "source": [
    "y = to_images(Y_corr,6)\n",
    "plot_images(y[:8])"
   ]
  },
  {
   "cell_type": "code",
   "execution_count": 11,
   "metadata": {},
   "outputs": [],
   "source": [
    "from torch.utils.data import Dataset ,DataLoader\n",
    "import torch\n",
    "from sklearn import preprocessing\n",
    "from scripts.config import get_config\n",
    "import numpy as np\n",
    "from scripts.helper import SynthetitcDataset\n",
    "\n",
    "def get_data_loader_images(args,res ):\n",
    "\n",
    "    size_train = args.Train_Size\n",
    "    size_test = args.Test_Size\n",
    "    \n",
    "    X, Y = generate_correlated_uniforms(4, 100000+10000, 0.8)\n",
    "    mi = compute_mutual_information(X[:10000], Y[:10000])\n",
    "    \n",
    "    X = to_images(X,res).reshape(X.shape[0],res**2)\n",
    "    Y = to_images(Y,res).reshape(Y.shape[0],res**2)\n",
    "    #X, Y = task.sample(size_test+size_train, seed=args.seed)\n",
    "    \n",
    "    \n",
    "    # if args.preprocessing == \"rescale\":\n",
    "    #     X = preprocessing.StandardScaler(copy=True).fit_transform(X)\n",
    "    #     Y = preprocessing.StandardScaler(copy=True).fit_transform(Y)\n",
    "    \n",
    "    \n",
    "    x_train , y_train =  X[:size_train,], Y[:size_train,]\n",
    "    x_test , y_test =  X[size_train:,], Y[size_train:,]\n",
    "    \n",
    "\n",
    "    data_train, data_test =  [x_train , y_train], [x_test , y_test]\n",
    "\n",
    "\n",
    "    train, test = SynthetitcDataset(data_train),SynthetitcDataset(data_test)\n",
    "\n",
    "\n",
    "    train_loader = DataLoader(train, batch_size=256,\n",
    "                          shuffle=True,\n",
    "                          num_workers=8, drop_last=True,pin_memory =True)\n",
    "\n",
    "    test_loader = DataLoader(test, batch_size=1000,\n",
    "                          shuffle= False,\n",
    "                          num_workers=8, drop_last=False,pin_memory =True)\n",
    "    \n",
    "\n",
    "    return train_loader,test_loader,mi"
   ]
  },
  {
   "cell_type": "code",
   "execution_count": 12,
   "metadata": {},
   "outputs": [
    {
     "name": "stderr",
     "output_type": "stream",
     "text": [
      "/home/bounoua/miniconda3/lib/python3.9/multiprocessing/popen_fork.py:66: RuntimeWarning: os.fork() was called. os.fork() is incompatible with multithreaded code, and JAX is multithreaded, so this will likely lead to a deadlock.\n",
      "  self.pid = os.fork()\n",
      "/home/bounoua/miniconda3/lib/python3.9/multiprocessing/popen_fork.py:66: RuntimeWarning: os.fork() was called. os.fork() is incompatible with multithreaded code, and JAX is multithreaded, so this will likely lead to a deadlock.\n",
      "  self.pid = os.fork()\n",
      "GPU available: True (cuda), used: True\n",
      "TPU available: False, using: 0 TPU cores\n",
      "IPU available: False, using: 0 IPUs\n",
      "HPU available: False, using: 0 HPUs\n",
      "You are using a CUDA device ('NVIDIA A100-SXM4-80GB') that has Tensor Cores. To properly utilize them, you should set `torch.set_float32_matmul_precision('medium' | 'high')` which will trade-off precision for performance. For more details, read https://pytorch.org/docs/stable/generated/torch.set_float32_matmul_precision.html#torch.set_float32_matmul_precision\n",
      "LOCAL_RANK: 0 - CUDA_VISIBLE_DEVICES: [0,1,2,3,4,5,6,7]\n",
      "\n",
      "  | Name      | Type | Params\n",
      "-----------------------------------\n",
      "0 | score     | DiT  | 1.2 M \n",
      "1 | model_ema | EMA  | 1.2 M \n",
      "-----------------------------------\n",
      "2.4 M     Trainable params\n",
      "1.9 K     Non-trainable params\n",
      "2.4 M     Total params\n",
      "9.438     Total estimated model params size (MB)\n"
     ]
    },
    {
     "data": {
      "application/vnd.jupyter.widget-view+json": {
       "model_id": "9baa7e828758456984271cacb2134d26",
       "version_major": 2,
       "version_minor": 0
      },
      "text/plain": [
       "Sanity Checking: |          | 0/? [00:00<?, ?it/s]"
      ]
     },
     "metadata": {},
     "output_type": "display_data"
    },
    {
     "data": {
      "application/vnd.jupyter.widget-view+json": {
       "model_id": "4886b7d9f4f548f1aee01ec7b22e903a",
       "version_major": 2,
       "version_minor": 0
      },
      "text/plain": [
       "Training: |          | 0/? [00:00<?, ?it/s]"
      ]
     },
     "metadata": {},
     "output_type": "display_data"
    },
    {
     "name": "stdout",
     "output_type": "stream",
     "text": [
      "Epoch:  1  GT:  0.511 MINDE_estimate:  1.529 MINDE_sigma_estimate:  7.566\n",
      "Epoch:  2  GT:  0.511 MINDE_estimate:  1.376 MINDE_sigma_estimate:  13.601\n",
      "Epoch:  3  GT:  0.511 MINDE_estimate:  1.212 MINDE_sigma_estimate:  15.723\n",
      "Epoch:  4  GT:  0.511 MINDE_estimate:  1.535 MINDE_sigma_estimate:  13.124\n",
      "Epoch:  5  GT:  0.511 MINDE_estimate:  1.363 MINDE_sigma_estimate:  27.771\n",
      "Epoch:  6  GT:  0.511 MINDE_estimate:  1.521 MINDE_sigma_estimate:  -23.059\n",
      "Epoch:  7  GT:  0.511 MINDE_estimate:  1.229 MINDE_sigma_estimate:  12.995\n",
      "Epoch:  8  GT:  0.511 MINDE_estimate:  1.313 MINDE_sigma_estimate:  9.948\n",
      "Epoch:  9  GT:  0.511 MINDE_estimate:  1.549 MINDE_sigma_estimate:  26.135\n",
      "Epoch:  10  GT:  0.511 MINDE_estimate:  1.553 MINDE_sigma_estimate:  19.267\n",
      "Epoch:  11  GT:  0.511 MINDE_estimate:  1.73 MINDE_sigma_estimate:  -13.885\n"
     ]
    },
    {
     "name": "stderr",
     "output_type": "stream",
     "text": [
      "Exception ignored in: <function _releaseLock at 0x7fd1ed095a60>\n",
      "Traceback (most recent call last):\n",
      "  File \"/home/bounoua/miniconda3/lib/python3.9/logging/__init__.py\", line 227, in _releaseLock\n",
      "    def _releaseLock():\n",
      "KeyboardInterrupt: \n"
     ]
    },
    {
     "name": "stdout",
     "output_type": "stream",
     "text": [
      "Epoch:  12  GT:  0.511 MINDE_estimate:  1.238 MINDE_sigma_estimate:  -11.576\n"
     ]
    }
   ],
   "source": [
    "args = get_default_config()\n",
    "args.type =\"c\"\n",
    "args.test_epoch=1\n",
    "args.use_ema = False\n",
    "args.max_epochs=100\n",
    "args.bs =512\n",
    "args.lr = 1e-3\n",
    "args.arch = \"tx_img\"\n",
    "args.importance_sampling = True\n",
    "args.use_ema = True\n",
    "\n",
    "res = 16\n",
    "train, test, mi = get_data_loader_images(args,res)\n",
    "model = MINDE(args,var_list={\"x\":res*res,\"y\":res*res}, gt = mi)\n",
    "model.fit(train,test)\n"
   ]
  },
  {
   "cell_type": "code",
   "execution_count": null,
   "metadata": {},
   "outputs": [],
   "source": []
  }
 ],
 "metadata": {
  "kernelspec": {
   "display_name": "Python 3 (ipykernel)",
   "language": "python",
   "name": "python3"
  },
  "language_info": {
   "codemirror_mode": {
    "name": "ipython",
    "version": 3
   },
   "file_extension": ".py",
   "mimetype": "text/x-python",
   "name": "python",
   "nbconvert_exporter": "python",
   "pygments_lexer": "ipython3",
   "version": "3.9.12"
  }
 },
 "nbformat": 4,
 "nbformat_minor": 4
}
