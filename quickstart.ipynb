{
 "cells": [
  {
   "cell_type": "code",
   "execution_count": 1,
   "metadata": {},
   "outputs": [
    {
     "name": "stderr",
     "output_type": "stream",
     "text": [
      "/home/foresti/miniconda3/envs/minde/lib/python3.12/site-packages/jaxtyping/__init__.py:244: UserWarning: jaxtyping version >=0.2.23 should be used with Equinox version >=0.11.1\n",
      "  warnings.warn(\n"
     ]
    }
   ],
   "source": [
    "import jax\n",
    "jax.config.update('jax_platforms', 'cpu')\n",
    "import bmi\n",
    "from minde.minde import MINDE\n",
    "from minde.scripts.helper import get_data_loader, get_default_config"
   ]
  },
  {
   "cell_type": "code",
   "execution_count": 2,
   "metadata": {},
   "outputs": [
    {
     "data": {
      "text/plain": [
       "{'1v1-normal-0.75': <bmi.benchmark.task.Task at 0x7fb8701bfbf0>,\n",
       " 'normal_cdf-1v1-normal-0.75': <bmi.benchmark.task.Task at 0x7fb7c56e43e0>,\n",
       " '1v1-additive-0.1': <bmi.benchmark.task.Task at 0x7fb7c55fac30>,\n",
       " '1v1-additive-0.75': <bmi.benchmark.task.Task at 0x7fb7c55fac90>,\n",
       " '1v1-bimodal-0.75': <bmi.benchmark.task.Task at 0x7fb7c55fb9e0>,\n",
       " 'wiggly-1v1-normal-0.75': <bmi.benchmark.task.Task at 0x7fb7c55fad20>,\n",
       " 'half_cube-1v1-normal-0.75': <bmi.benchmark.task.Task at 0x7fb7c55fbfe0>,\n",
       " 'student-identity-1-1-1': <bmi.benchmark.task.Task at 0x7fb7c5f6fa40>,\n",
       " 'asinh-student-identity-1-1-1': <bmi.benchmark.task.Task at 0x7fb7c5620380>,\n",
       " 'swissroll_x-normal_cdf-1v1-normal-0.75': <bmi.benchmark.task.Task at 0x7fb7c56206e0>,\n",
       " 'multinormal-dense-2-2-0.5': <bmi.benchmark.task.Task at 0x7fb7c5620a40>,\n",
       " 'multinormal-dense-3-3-0.5': <bmi.benchmark.task.Task at 0x7fb7c5620e90>,\n",
       " 'multinormal-dense-5-5-0.5': <bmi.benchmark.task.Task at 0x7fb7c5620ef0>,\n",
       " 'multinormal-dense-25-25-0.5': <bmi.benchmark.task.Task at 0x7fb7c5621070>,\n",
       " 'multinormal-dense-50-50-0.5': <bmi.benchmark.task.Task at 0x7fb7c56211f0>,\n",
       " 'multinormal-sparse-2-2-2-2.0': <bmi.benchmark.task.Task at 0x7fb7c5621340>,\n",
       " 'multinormal-sparse-3-3-2-2.0': <bmi.benchmark.task.Task at 0x7fb7c5947770>,\n",
       " 'multinormal-sparse-5-5-2-2.0': <bmi.benchmark.task.Task at 0x7fb7c56214f0>,\n",
       " 'multinormal-sparse-25-25-2-2.0': <bmi.benchmark.task.Task at 0x7fb7c5621700>,\n",
       " 'student-identity-2-2-1': <bmi.benchmark.task.Task at 0x7fb7c5621b50>,\n",
       " 'student-identity-2-2-2': <bmi.benchmark.task.Task at 0x7fb7c5621d90>,\n",
       " 'student-identity-3-3-2': <bmi.benchmark.task.Task at 0x7fb7c5622000>,\n",
       " 'student-identity-3-3-3': <bmi.benchmark.task.Task at 0x7fb7c5622270>,\n",
       " 'student-identity-5-5-2': <bmi.benchmark.task.Task at 0x7fb7c56224e0>,\n",
       " 'student-identity-5-5-3': <bmi.benchmark.task.Task at 0x7fb7c5622750>,\n",
       " 'normal_cdf-multinormal-sparse-3-3-2-2.0': <bmi.benchmark.task.Task at 0x7fb7c5623020>,\n",
       " 'normal_cdf-multinormal-sparse-5-5-2-2.0': <bmi.benchmark.task.Task at 0x7fb7c5623320>,\n",
       " 'normal_cdf-multinormal-sparse-25-25-2-2.0': <bmi.benchmark.task.Task at 0x7fb7c5623680>,\n",
       " 'half_cube-multinormal-sparse-3-3-2-2.0': <bmi.benchmark.task.Task at 0x7fb7c5623a10>,\n",
       " 'half_cube-multinormal-sparse-5-5-2-2.0': <bmi.benchmark.task.Task at 0x7fb7c5623da0>,\n",
       " 'half_cube-multinormal-sparse-25-25-2-2.0': <bmi.benchmark.task.Task at 0x7fb7c569c170>,\n",
       " 'spiral-multinormal-sparse-3-3-2-2.0': <bmi.benchmark.task.Task at 0x7fb7c05375c0>,\n",
       " 'spiral-multinormal-sparse-5-5-2-2.0': <bmi.benchmark.task.Task at 0x7fb7c5620b60>,\n",
       " 'spiral-multinormal-sparse-25-25-2-2.0': <bmi.benchmark.task.Task at 0x7fb7c0586e10>,\n",
       " 'spiral-normal_cdf-multinormal-sparse-3-3-2-2.0': <bmi.benchmark.task.Task at 0x7fb7c05a5100>,\n",
       " 'spiral-normal_cdf-multinormal-sparse-5-5-2-2.0': <bmi.benchmark.task.Task at 0x7fb7c05a5bb0>,\n",
       " 'spiral-normal_cdf-multinormal-sparse-25-25-2-2.0': <bmi.benchmark.task.Task at 0x7fb7c05a64b0>,\n",
       " 'asinh-student-identity-2-2-1': <bmi.benchmark.task.Task at 0x7fb7c05a6930>,\n",
       " 'asinh-student-identity-3-3-2': <bmi.benchmark.task.Task at 0x7fb7c05a6e40>,\n",
       " 'asinh-student-identity-5-5-2': <bmi.benchmark.task.Task at 0x7fb7c05a7350>}"
      ]
     },
     "execution_count": 2,
     "metadata": {},
     "output_type": "execute_result"
    }
   ],
   "source": [
    "bmi.benchmark.BENCHMARK_TASKS"
   ]
  },
  {
   "cell_type": "code",
   "execution_count": 3,
   "metadata": {},
   "outputs": [
    {
     "data": {
      "text/plain": [
       "1.0216512475319774"
      ]
     },
     "execution_count": 3,
     "metadata": {},
     "output_type": "execute_result"
    }
   ],
   "source": [
    "bmi.benchmark.BENCHMARK_TASKS\n",
    "name_task = \"1v1-normal-0.75\"\n",
    "name_task = \"spiral-multinormal-sparse-25-25-2-2.0\"\n",
    "# name_task=\"spiral-normal_cdf-multinormal-sparse-5-5-2-2.0\"\n",
    "task = bmi.benchmark.BENCHMARK_TASKS[name_task]\n",
    "task.mutual_information"
   ]
  },
  {
   "cell_type": "code",
   "execution_count": 4,
   "metadata": {},
   "outputs": [],
   "source": [
    "args = get_default_config()\n",
    "args.type =\"c\"\n",
    "args.importance_sampling = True\n",
    "args.use_ema = True\n",
    "args.checkpoint_dir = r\"/home/foresti/minde/checkpoints\"\n"
   ]
  },
  {
   "cell_type": "code",
   "execution_count": 5,
   "metadata": {},
   "outputs": [
    {
     "data": {
      "text/plain": [
       "25"
      ]
     },
     "execution_count": 5,
     "metadata": {},
     "output_type": "execute_result"
    }
   ],
   "source": [
    "task.dim_x\n",
    "task.dim_y"
   ]
  },
  {
   "cell_type": "code",
   "execution_count": 6,
   "metadata": {},
   "outputs": [],
   "source": [
    "X, Y = task.sample(100000, seed=42)\n",
    "var_list = {}"
   ]
  },
  {
   "cell_type": "code",
   "execution_count": 7,
   "metadata": {},
   "outputs": [
    {
     "name": "stdout",
     "output_type": "stream",
     "text": [
      "(100000, 25)\n",
      "<class 'jaxlib.xla_extension.ArrayImpl'>\n"
     ]
    }
   ],
   "source": [
    "print(X.shape)\n",
    "print(type(X))"
   ]
  },
  {
   "cell_type": "code",
   "execution_count": 8,
   "metadata": {},
   "outputs": [
    {
     "name": "stderr",
     "output_type": "stream",
     "text": [
      "GPU available: True (cuda), used: True\n",
      "TPU available: False, using: 0 TPU cores\n",
      "IPU available: False, using: 0 IPUs\n",
      "HPU available: False, using: 0 HPUs\n",
      "LOCAL_RANK: 0 - CUDA_VISIBLE_DEVICES: [0,1,2,3]\n",
      "\n",
      "  | Name      | Type           | Params\n",
      "---------------------------------------------\n",
      "0 | score     | UnetMLP_simple | 179 K \n",
      "1 | model_ema | EMA            | 179 K \n",
      "---------------------------------------------\n",
      "359 K     Trainable params\n",
      "0         Non-trainable params\n",
      "359 K     Total params\n",
      "1.438     Total estimated model params size (MB)\n"
     ]
    },
    {
     "data": {
      "application/vnd.jupyter.widget-view+json": {
       "model_id": "fa7dfee8db754adfbe4938d5c9cfd241",
       "version_major": 2,
       "version_minor": 0
      },
      "text/plain": [
       "Sanity Checking: |          | 0/? [00:00<?, ?it/s]"
      ]
     },
     "metadata": {},
     "output_type": "display_data"
    },
    {
     "name": "stderr",
     "output_type": "stream",
     "text": [
      "/home/foresti/miniconda3/envs/minde/lib/python3.12/site-packages/pytorch_lightning/trainer/connectors/data_connector.py:441: The 'val_dataloader' does not have many workers which may be a bottleneck. Consider increasing the value of the `num_workers` argument` to `num_workers=63` in the `DataLoader` to improve performance.\n",
      "/home/foresti/miniconda3/envs/minde/lib/python3.12/site-packages/pytorch_lightning/trainer/connectors/data_connector.py:441: The 'train_dataloader' does not have many workers which may be a bottleneck. Consider increasing the value of the `num_workers` argument` to `num_workers=63` in the `DataLoader` to improve performance.\n"
     ]
    },
    {
     "data": {
      "application/vnd.jupyter.widget-view+json": {
       "model_id": "708fbabddd554179b96c0418d6b2b21d",
       "version_major": 2,
       "version_minor": 0
      },
      "text/plain": [
       "Training: |          | 0/? [00:00<?, ?it/s]"
      ]
     },
     "metadata": {},
     "output_type": "display_data"
    },
    {
     "name": "stdout",
     "output_type": "stream",
     "text": [
      "Epoch:  1  GT:  Not given MINDE_estimate:  1.387 MINDE_sigma_estimate:  1.335\n",
      "Epoch:  2  GT:  Not given MINDE_estimate:  0.8 MINDE_sigma_estimate:  0.741\n",
      "Epoch:  3  GT:  Not given MINDE_estimate:  0.508 MINDE_sigma_estimate:  0.419\n",
      "Epoch:  4  GT:  Not given MINDE_estimate:  0.387 MINDE_sigma_estimate:  0.282\n",
      "Epoch:  5  GT:  Not given MINDE_estimate:  0.334 MINDE_sigma_estimate:  0.216\n",
      "Epoch:  6  GT:  Not given MINDE_estimate:  0.312 MINDE_sigma_estimate:  0.205\n",
      "Epoch:  7  GT:  Not given MINDE_estimate:  0.298 MINDE_sigma_estimate:  0.197\n",
      "Epoch:  8  GT:  Not given MINDE_estimate:  0.289 MINDE_sigma_estimate:  0.2\n",
      "Epoch:  9  GT:  Not given MINDE_estimate:  0.282 MINDE_sigma_estimate:  0.203\n",
      "Epoch:  10  GT:  Not given MINDE_estimate:  0.281 MINDE_sigma_estimate:  0.214\n",
      "Epoch:  11  GT:  Not given MINDE_estimate:  0.302 MINDE_sigma_estimate:  0.229\n",
      "Epoch:  12  GT:  Not given MINDE_estimate:  0.323 MINDE_sigma_estimate:  0.233\n",
      "Epoch:  13  GT:  Not given MINDE_estimate:  0.351 MINDE_sigma_estimate:  0.273\n",
      "Epoch:  14  GT:  Not given MINDE_estimate:  0.376 MINDE_sigma_estimate:  0.313\n",
      "Epoch:  15  GT:  Not given MINDE_estimate:  0.403 MINDE_sigma_estimate:  0.36\n",
      "Epoch:  16  GT:  Not given MINDE_estimate:  0.432 MINDE_sigma_estimate:  0.396\n",
      "Epoch:  17  GT:  Not given MINDE_estimate:  0.453 MINDE_sigma_estimate:  0.422\n",
      "Epoch:  18  GT:  Not given MINDE_estimate:  0.456 MINDE_sigma_estimate:  0.427\n",
      "Epoch:  19  GT:  Not given MINDE_estimate:  0.475 MINDE_sigma_estimate:  0.447\n",
      "Epoch:  20  GT:  Not given MINDE_estimate:  0.479 MINDE_sigma_estimate:  0.45\n",
      "Epoch:  21  GT:  Not given MINDE_estimate:  0.489 MINDE_sigma_estimate:  0.465\n",
      "Epoch:  22  GT:  Not given MINDE_estimate:  0.489 MINDE_sigma_estimate:  0.471\n",
      "Epoch:  23  GT:  Not given MINDE_estimate:  0.494 MINDE_sigma_estimate:  0.475\n",
      "Epoch:  24  GT:  Not given MINDE_estimate:  0.515 MINDE_sigma_estimate:  0.49\n",
      "Epoch:  25  GT:  Not given MINDE_estimate:  0.525 MINDE_sigma_estimate:  0.5\n",
      "Epoch:  26  GT:  Not given MINDE_estimate:  0.546 MINDE_sigma_estimate:  0.526\n",
      "Epoch:  27  GT:  Not given MINDE_estimate:  0.569 MINDE_sigma_estimate:  0.554\n",
      "Epoch:  28  GT:  Not given MINDE_estimate:  0.604 MINDE_sigma_estimate:  0.591\n",
      "Epoch:  29  GT:  Not given MINDE_estimate:  0.638 MINDE_sigma_estimate:  0.624\n",
      "Epoch:  30  GT:  Not given MINDE_estimate:  0.647 MINDE_sigma_estimate:  0.633\n",
      "Epoch:  31  GT:  Not given MINDE_estimate:  0.678 MINDE_sigma_estimate:  0.666\n",
      "Epoch:  32  GT:  Not given MINDE_estimate:  0.697 MINDE_sigma_estimate:  0.686\n",
      "Epoch:  33  GT:  Not given MINDE_estimate:  0.696 MINDE_sigma_estimate:  0.684\n",
      "Epoch:  34  GT:  Not given MINDE_estimate:  0.716 MINDE_sigma_estimate:  0.704\n",
      "Epoch:  35  GT:  Not given MINDE_estimate:  0.713 MINDE_sigma_estimate:  0.701\n",
      "Epoch:  36  GT:  Not given MINDE_estimate:  0.712 MINDE_sigma_estimate:  0.7\n",
      "Epoch:  37  GT:  Not given MINDE_estimate:  0.712 MINDE_sigma_estimate:  0.702\n",
      "Epoch:  38  GT:  Not given MINDE_estimate:  0.732 MINDE_sigma_estimate:  0.721\n",
      "Epoch:  39  GT:  Not given MINDE_estimate:  0.729 MINDE_sigma_estimate:  0.719\n",
      "Epoch:  40  GT:  Not given MINDE_estimate:  0.733 MINDE_sigma_estimate:  0.722\n",
      "Epoch:  41  GT:  Not given MINDE_estimate:  0.731 MINDE_sigma_estimate:  0.719\n",
      "Epoch:  42  GT:  Not given MINDE_estimate:  0.746 MINDE_sigma_estimate:  0.733\n",
      "Epoch:  43  GT:  Not given MINDE_estimate:  0.75 MINDE_sigma_estimate:  0.736\n",
      "Epoch:  44  GT:  Not given MINDE_estimate:  0.751 MINDE_sigma_estimate:  0.738\n",
      "Epoch:  45  GT:  Not given MINDE_estimate:  0.747 MINDE_sigma_estimate:  0.734\n",
      "Epoch:  46  GT:  Not given MINDE_estimate:  0.76 MINDE_sigma_estimate:  0.747\n",
      "Epoch:  47  GT:  Not given MINDE_estimate:  0.764 MINDE_sigma_estimate:  0.752\n",
      "Epoch:  48  GT:  Not given MINDE_estimate:  0.766 MINDE_sigma_estimate:  0.754\n"
     ]
    },
    {
     "data": {
      "application/vnd.jupyter.widget-view+json": {
       "model_id": "679ffafb751f4835bcfd2ba4cdca679b",
       "version_major": 2,
       "version_minor": 0
      },
      "text/plain": [
       "Validation: |          | 0/? [00:00<?, ?it/s]"
      ]
     },
     "metadata": {},
     "output_type": "display_data"
    },
    {
     "name": "stdout",
     "output_type": "stream",
     "text": [
      "Epoch:  49  GT:  Not given MINDE_estimate:  0.77 MINDE_sigma_estimate:  0.759\n",
      "Epoch:  50  GT:  Not given MINDE_estimate:  0.748 MINDE_sigma_estimate:  0.738\n",
      "Epoch:  51  GT:  Not given MINDE_estimate:  0.758 MINDE_sigma_estimate:  0.748\n",
      "Epoch:  52  GT:  Not given MINDE_estimate:  0.759 MINDE_sigma_estimate:  0.748\n",
      "Epoch:  53  GT:  Not given MINDE_estimate:  0.754 MINDE_sigma_estimate:  0.745\n",
      "Epoch:  54  GT:  Not given MINDE_estimate:  0.759 MINDE_sigma_estimate:  0.75\n",
      "Epoch:  55  GT:  Not given MINDE_estimate:  0.764 MINDE_sigma_estimate:  0.755\n",
      "Epoch:  56  GT:  Not given MINDE_estimate:  0.77 MINDE_sigma_estimate:  0.759\n",
      "Epoch:  57  GT:  Not given MINDE_estimate:  0.759 MINDE_sigma_estimate:  0.748\n",
      "Epoch:  58  GT:  Not given MINDE_estimate:  0.762 MINDE_sigma_estimate:  0.751\n",
      "Epoch:  59  GT:  Not given MINDE_estimate:  0.772 MINDE_sigma_estimate:  0.76\n",
      "Epoch:  60  GT:  Not given MINDE_estimate:  0.763 MINDE_sigma_estimate:  0.753\n",
      "Epoch:  61  GT:  Not given MINDE_estimate:  0.771 MINDE_sigma_estimate:  0.763\n",
      "Epoch:  62  GT:  Not given MINDE_estimate:  0.778 MINDE_sigma_estimate:  0.771\n",
      "Epoch:  63  GT:  Not given MINDE_estimate:  0.788 MINDE_sigma_estimate:  0.781\n",
      "Epoch:  64  GT:  Not given MINDE_estimate:  0.793 MINDE_sigma_estimate:  0.786\n",
      "Epoch:  65  GT:  Not given MINDE_estimate:  0.779 MINDE_sigma_estimate:  0.772\n",
      "Epoch:  66  GT:  Not given MINDE_estimate:  0.776 MINDE_sigma_estimate:  0.769\n",
      "Epoch:  67  GT:  Not given MINDE_estimate:  0.775 MINDE_sigma_estimate:  0.767\n",
      "Epoch:  68  GT:  Not given MINDE_estimate:  0.788 MINDE_sigma_estimate:  0.78\n",
      "Epoch:  69  GT:  Not given MINDE_estimate:  0.769 MINDE_sigma_estimate:  0.763\n",
      "Epoch:  70  GT:  Not given MINDE_estimate:  0.781 MINDE_sigma_estimate:  0.773\n",
      "Epoch:  71  GT:  Not given MINDE_estimate:  0.77 MINDE_sigma_estimate:  0.762\n",
      "Epoch:  72  GT:  Not given MINDE_estimate:  0.78 MINDE_sigma_estimate:  0.771\n",
      "Epoch:  73  GT:  Not given MINDE_estimate:  0.775 MINDE_sigma_estimate:  0.767\n",
      "Epoch:  74  GT:  Not given MINDE_estimate:  0.783 MINDE_sigma_estimate:  0.777\n",
      "Epoch:  75  GT:  Not given MINDE_estimate:  0.785 MINDE_sigma_estimate:  0.778\n",
      "Epoch:  76  GT:  Not given MINDE_estimate:  0.796 MINDE_sigma_estimate:  0.789\n",
      "Epoch:  77  GT:  Not given MINDE_estimate:  0.794 MINDE_sigma_estimate:  0.787\n",
      "Epoch:  78  GT:  Not given MINDE_estimate:  0.813 MINDE_sigma_estimate:  0.805\n",
      "Epoch:  79  GT:  Not given MINDE_estimate:  0.807 MINDE_sigma_estimate:  0.798\n",
      "Epoch:  80  GT:  Not given MINDE_estimate:  0.797 MINDE_sigma_estimate:  0.789\n",
      "Epoch:  81  GT:  Not given MINDE_estimate:  0.794 MINDE_sigma_estimate:  0.788\n",
      "Epoch:  82  GT:  Not given MINDE_estimate:  0.8 MINDE_sigma_estimate:  0.793\n",
      "Epoch:  83  GT:  Not given MINDE_estimate:  0.787 MINDE_sigma_estimate:  0.779\n",
      "Epoch:  84  GT:  Not given MINDE_estimate:  0.796 MINDE_sigma_estimate:  0.788\n",
      "Epoch:  85  GT:  Not given MINDE_estimate:  0.799 MINDE_sigma_estimate:  0.791\n",
      "Epoch:  86  GT:  Not given MINDE_estimate:  0.799 MINDE_sigma_estimate:  0.791\n",
      "Epoch:  87  GT:  Not given MINDE_estimate:  0.801 MINDE_sigma_estimate:  0.793\n",
      "Epoch:  88  GT:  Not given MINDE_estimate:  0.793 MINDE_sigma_estimate:  0.787\n",
      "Epoch:  89  GT:  Not given MINDE_estimate:  0.784 MINDE_sigma_estimate:  0.778\n",
      "Epoch:  90  GT:  Not given MINDE_estimate:  0.781 MINDE_sigma_estimate:  0.774\n",
      "Epoch:  91  GT:  Not given MINDE_estimate:  0.787 MINDE_sigma_estimate:  0.779\n",
      "Epoch:  92  GT:  Not given MINDE_estimate:  0.79 MINDE_sigma_estimate:  0.784\n",
      "Epoch:  93  GT:  Not given MINDE_estimate:  0.796 MINDE_sigma_estimate:  0.79\n",
      "Epoch:  94  GT:  Not given MINDE_estimate:  0.797 MINDE_sigma_estimate:  0.79\n",
      "Epoch:  95  GT:  Not given MINDE_estimate:  0.8 MINDE_sigma_estimate:  0.794\n",
      "Epoch:  96  GT:  Not given MINDE_estimate:  0.79 MINDE_sigma_estimate:  0.785\n",
      "Epoch:  97  GT:  Not given MINDE_estimate:  0.808 MINDE_sigma_estimate:  0.8\n",
      "Epoch:  98  GT:  Not given MINDE_estimate:  0.801 MINDE_sigma_estimate:  0.794\n"
     ]
    },
    {
     "data": {
      "application/vnd.jupyter.widget-view+json": {
       "model_id": "916f96d287f647f1846cb210cb524614",
       "version_major": 2,
       "version_minor": 0
      },
      "text/plain": [
       "Validation: |          | 0/? [00:00<?, ?it/s]"
      ]
     },
     "metadata": {},
     "output_type": "display_data"
    },
    {
     "name": "stdout",
     "output_type": "stream",
     "text": [
      "Epoch:  99  GT:  Not given MINDE_estimate:  0.799 MINDE_sigma_estimate:  0.793\n",
      "Epoch:  100  GT:  Not given MINDE_estimate:  0.8 MINDE_sigma_estimate:  0.793\n",
      "Epoch:  101  GT:  Not given MINDE_estimate:  0.794 MINDE_sigma_estimate:  0.788\n",
      "Epoch:  102  GT:  Not given MINDE_estimate:  0.79 MINDE_sigma_estimate:  0.784\n",
      "Epoch:  103  GT:  Not given MINDE_estimate:  0.803 MINDE_sigma_estimate:  0.796\n",
      "Epoch:  104  GT:  Not given MINDE_estimate:  0.802 MINDE_sigma_estimate:  0.797\n",
      "Epoch:  105  GT:  Not given MINDE_estimate:  0.798 MINDE_sigma_estimate:  0.794\n",
      "Epoch:  106  GT:  Not given MINDE_estimate:  0.782 MINDE_sigma_estimate:  0.777\n",
      "Epoch:  107  GT:  Not given MINDE_estimate:  0.788 MINDE_sigma_estimate:  0.782\n",
      "Epoch:  108  GT:  Not given MINDE_estimate:  0.783 MINDE_sigma_estimate:  0.777\n",
      "Epoch:  109  GT:  Not given MINDE_estimate:  0.792 MINDE_sigma_estimate:  0.785\n",
      "Epoch:  110  GT:  Not given MINDE_estimate:  0.787 MINDE_sigma_estimate:  0.781\n",
      "Epoch:  111  GT:  Not given MINDE_estimate:  0.795 MINDE_sigma_estimate:  0.789\n",
      "Epoch:  112  GT:  Not given MINDE_estimate:  0.793 MINDE_sigma_estimate:  0.787\n",
      "Epoch:  113  GT:  Not given MINDE_estimate:  0.792 MINDE_sigma_estimate:  0.785\n",
      "Epoch:  114  GT:  Not given MINDE_estimate:  0.79 MINDE_sigma_estimate:  0.784\n",
      "Epoch:  115  GT:  Not given MINDE_estimate:  0.804 MINDE_sigma_estimate:  0.797\n",
      "Epoch:  116  GT:  Not given MINDE_estimate:  0.807 MINDE_sigma_estimate:  0.801\n",
      "Epoch:  117  GT:  Not given MINDE_estimate:  0.823 MINDE_sigma_estimate:  0.816\n",
      "Epoch:  118  GT:  Not given MINDE_estimate:  0.81 MINDE_sigma_estimate:  0.803\n",
      "Epoch:  119  GT:  Not given MINDE_estimate:  0.824 MINDE_sigma_estimate:  0.817\n",
      "Epoch:  120  GT:  Not given MINDE_estimate:  0.816 MINDE_sigma_estimate:  0.81\n",
      "Epoch:  121  GT:  Not given MINDE_estimate:  0.816 MINDE_sigma_estimate:  0.81\n",
      "Epoch:  122  GT:  Not given MINDE_estimate:  0.812 MINDE_sigma_estimate:  0.807\n",
      "Epoch:  123  GT:  Not given MINDE_estimate:  0.812 MINDE_sigma_estimate:  0.807\n",
      "Epoch:  124  GT:  Not given MINDE_estimate:  0.814 MINDE_sigma_estimate:  0.809\n",
      "Epoch:  125  GT:  Not given MINDE_estimate:  0.831 MINDE_sigma_estimate:  0.826\n",
      "Epoch:  126  GT:  Not given MINDE_estimate:  0.809 MINDE_sigma_estimate:  0.804\n",
      "Epoch:  127  GT:  Not given MINDE_estimate:  0.821 MINDE_sigma_estimate:  0.815\n",
      "Epoch:  128  GT:  Not given MINDE_estimate:  0.804 MINDE_sigma_estimate:  0.798\n",
      "Epoch:  129  GT:  Not given MINDE_estimate:  0.813 MINDE_sigma_estimate:  0.807\n",
      "Epoch:  130  GT:  Not given MINDE_estimate:  0.813 MINDE_sigma_estimate:  0.807\n",
      "Epoch:  131  GT:  Not given MINDE_estimate:  0.822 MINDE_sigma_estimate:  0.815\n",
      "Epoch:  132  GT:  Not given MINDE_estimate:  0.811 MINDE_sigma_estimate:  0.803\n"
     ]
    }
   ],
   "source": [
    "var_list = {\"x\": task.dim_x, \"y\": task.dim_y}\n",
    "model = MINDE(args, var_list=var_list)\n",
    "model(X, Y, std=True)"
   ]
  }
 ],
 "metadata": {
  "kernelspec": {
   "display_name": "Python 3 (ipykernel)",
   "language": "python",
   "name": "python3"
  },
  "language_info": {
   "codemirror_mode": {
    "name": "ipython",
    "version": 3
   },
   "file_extension": ".py",
   "mimetype": "text/x-python",
   "name": "python",
   "nbconvert_exporter": "python",
   "pygments_lexer": "ipython3",
   "version": "3.12.5"
  }
 },
 "nbformat": 4,
 "nbformat_minor": 4
}
