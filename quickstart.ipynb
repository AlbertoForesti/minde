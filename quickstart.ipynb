{
 "cells": [
  {
   "cell_type": "code",
   "execution_count": 1,
   "metadata": {},
   "outputs": [
    {
     "name": "stderr",
     "output_type": "stream",
     "text": [
      "/home/bounoua/work/minde/myvenv/lib/python3.9/site-packages/jaxtyping/__init__.py:244: UserWarning: jaxtyping version >=0.2.23 should be used with Equinox version >=0.11.1\n",
      "  warnings.warn(\n"
     ]
    }
   ],
   "source": [
    "\n",
    "import jax\n",
    "jax.config.update('jax_platforms', 'cpu')\n",
    "import bmi\n",
    "from src.libs.minde import MINDE\n",
    "from src.scripts.helper import get_data_loader, get_default_config"
   ]
  },
  {
   "cell_type": "code",
   "execution_count": 2,
   "metadata": {},
   "outputs": [
    {
     "data": {
      "text/plain": [
       "{'1v1-normal-0.75': <bmi.benchmark.task.Task at 0x7f39439c3190>,\n",
       " 'normal_cdf-1v1-normal-0.75': <bmi.benchmark.task.Task at 0x7f39439c3430>,\n",
       " '1v1-additive-0.1': <bmi.benchmark.task.Task at 0x7f39439c3a00>,\n",
       " '1v1-additive-0.75': <bmi.benchmark.task.Task at 0x7f39438dbe20>,\n",
       " '1v1-bimodal-0.75': <bmi.benchmark.task.Task at 0x7f3943894310>,\n",
       " 'wiggly-1v1-normal-0.75': <bmi.benchmark.task.Task at 0x7f39438f88b0>,\n",
       " 'half_cube-1v1-normal-0.75': <bmi.benchmark.task.Task at 0x7f39438948e0>,\n",
       " 'student-identity-1-1-1': <bmi.benchmark.task.Task at 0x7f39439c3790>,\n",
       " 'asinh-student-identity-1-1-1': <bmi.benchmark.task.Task at 0x7f3943894ca0>,\n",
       " 'swissroll_x-normal_cdf-1v1-normal-0.75': <bmi.benchmark.task.Task at 0x7f39438980d0>,\n",
       " 'multinormal-dense-2-2-0.5': <bmi.benchmark.task.Task at 0x7f39438984c0>,\n",
       " 'multinormal-dense-3-3-0.5': <bmi.benchmark.task.Task at 0x7f39438989d0>,\n",
       " 'multinormal-dense-5-5-0.5': <bmi.benchmark.task.Task at 0x7f3943898a90>,\n",
       " 'multinormal-dense-25-25-0.5': <bmi.benchmark.task.Task at 0x7f3943898c70>,\n",
       " 'multinormal-dense-50-50-0.5': <bmi.benchmark.task.Task at 0x7f3943898e50>,\n",
       " 'multinormal-sparse-2-2-2-2.0': <bmi.benchmark.task.Task at 0x7f3943898fa0>,\n",
       " 'multinormal-sparse-3-3-2-2.0': <bmi.benchmark.task.Task at 0x7f3943888070>,\n",
       " 'multinormal-sparse-5-5-2-2.0': <bmi.benchmark.task.Task at 0x7f3943888220>,\n",
       " 'multinormal-sparse-25-25-2-2.0': <bmi.benchmark.task.Task at 0x7f3943888400>,\n",
       " 'student-identity-2-2-1': <bmi.benchmark.task.Task at 0x7f39438887c0>,\n",
       " 'student-identity-2-2-2': <bmi.benchmark.task.Task at 0x7f3943888a00>,\n",
       " 'student-identity-3-3-2': <bmi.benchmark.task.Task at 0x7f3943888c10>,\n",
       " 'student-identity-3-3-3': <bmi.benchmark.task.Task at 0x7f3943888e20>,\n",
       " 'student-identity-5-5-2': <bmi.benchmark.task.Task at 0x7f3943892070>,\n",
       " 'student-identity-5-5-3': <bmi.benchmark.task.Task at 0x7f3943892280>,\n",
       " 'normal_cdf-multinormal-sparse-3-3-2-2.0': <bmi.benchmark.task.Task at 0x7f3943892a30>,\n",
       " 'normal_cdf-multinormal-sparse-5-5-2-2.0': <bmi.benchmark.task.Task at 0x7f3943892dc0>,\n",
       " 'normal_cdf-multinormal-sparse-25-25-2-2.0': <bmi.benchmark.task.Task at 0x7f39438181c0>,\n",
       " 'half_cube-multinormal-sparse-3-3-2-2.0': <bmi.benchmark.task.Task at 0x7f39438185b0>,\n",
       " 'half_cube-multinormal-sparse-5-5-2-2.0': <bmi.benchmark.task.Task at 0x7f39438189a0>,\n",
       " 'half_cube-multinormal-sparse-25-25-2-2.0': <bmi.benchmark.task.Task at 0x7f3943818d90>,\n",
       " 'spiral-multinormal-sparse-3-3-2-2.0': <bmi.benchmark.task.Task at 0x7f394381b2e0>,\n",
       " 'spiral-multinormal-sparse-5-5-2-2.0': <bmi.benchmark.task.Task at 0x7f393f3c6280>,\n",
       " 'spiral-multinormal-sparse-25-25-2-2.0': <bmi.benchmark.task.Task at 0x7f393f3e2640>,\n",
       " 'spiral-normal_cdf-multinormal-sparse-3-3-2-2.0': <bmi.benchmark.task.Task at 0x7f393f3dfe20>,\n",
       " 'spiral-normal_cdf-multinormal-sparse-5-5-2-2.0': <bmi.benchmark.task.Task at 0x7f393f35a6d0>,\n",
       " 'spiral-normal_cdf-multinormal-sparse-25-25-2-2.0': <bmi.benchmark.task.Task at 0x7f393f35af40>,\n",
       " 'asinh-student-identity-2-2-1': <bmi.benchmark.task.Task at 0x7f393f35e6a0>,\n",
       " 'asinh-student-identity-3-3-2': <bmi.benchmark.task.Task at 0x7f393f35ebb0>,\n",
       " 'asinh-student-identity-5-5-2': <bmi.benchmark.task.Task at 0x7f393f361100>}"
      ]
     },
     "execution_count": 2,
     "metadata": {},
     "output_type": "execute_result"
    }
   ],
   "source": [
    "bmi.benchmark.BENCHMARK_TASKS"
   ]
  },
  {
   "cell_type": "code",
   "execution_count": 3,
   "metadata": {},
   "outputs": [
    {
     "data": {
      "text/plain": [
       "0.41333928659223396"
      ]
     },
     "execution_count": 3,
     "metadata": {},
     "output_type": "execute_result"
    }
   ],
   "source": [
    "bmi.benchmark.BENCHMARK_TASKS\n",
    "name_task = \"1v1-normal-0.75\"\n",
    "#name_task=\"1v1-additive-0.75\"\n",
    "task = bmi.benchmark.BENCHMARK_TASKS[name_task]\n",
    "task.mutual_information"
   ]
  },
  {
   "cell_type": "code",
   "execution_count": 4,
   "metadata": {},
   "outputs": [],
   "source": [
    "args = get_default_config()\n",
    "args.type =\"c\"\n",
    "args.test_epoch=1\n",
    "args.max_epochs=20\n",
    "args.warmup_epochs = 5\n",
    "args.bs =256\n",
    "args.lr = 1e-3\n",
    "args.arch = \"mlp\"\n",
    "args.importance_sampling = True\n",
    "args.use_ema = True\n"
   ]
  },
  {
   "cell_type": "code",
   "execution_count": 5,
   "metadata": {},
   "outputs": [
    {
     "name": "stderr",
     "output_type": "stream",
     "text": [
      "/home/bounoua/miniconda3/lib/python3.9/multiprocessing/popen_fork.py:66: RuntimeWarning: os.fork() was called. os.fork() is incompatible with multithreaded code, and JAX is multithreaded, so this will likely lead to a deadlock.\n",
      "  self.pid = os.fork()\n",
      "/home/bounoua/miniconda3/lib/python3.9/multiprocessing/popen_fork.py:66: RuntimeWarning: os.fork() was called. os.fork() is incompatible with multithreaded code, and JAX is multithreaded, so this will likely lead to a deadlock.\n",
      "  self.pid = os.fork()\n",
      "GPU available: True (cuda), used: True\n",
      "TPU available: False, using: 0 TPU cores\n",
      "IPU available: False, using: 0 IPUs\n",
      "HPU available: False, using: 0 HPUs\n",
      "You are using a CUDA device ('NVIDIA A100-SXM4-80GB') that has Tensor Cores. To properly utilize them, you should set `torch.set_float32_matmul_precision('medium' | 'high')` which will trade-off precision for performance. For more details, read https://pytorch.org/docs/stable/generated/torch.set_float32_matmul_precision.html#torch.set_float32_matmul_precision\n",
      "LOCAL_RANK: 0 - CUDA_VISIBLE_DEVICES: [0,1,2,3,4,5,6,7]\n",
      "\n",
      "  | Name      | Type           | Params\n",
      "---------------------------------------------\n",
      "0 | score     | UnetMLP_simple | 42.8 K\n",
      "1 | model_ema | EMA            | 42.8 K\n",
      "---------------------------------------------\n",
      "85.5 K    Trainable params\n",
      "0         Non-trainable params\n",
      "85.5 K    Total params\n",
      "0.342     Total estimated model params size (MB)\n"
     ]
    },
    {
     "data": {
      "application/vnd.jupyter.widget-view+json": {
       "model_id": "7ccb1e6fc7ea4968b81050ff1e53854e",
       "version_major": 2,
       "version_minor": 0
      },
      "text/plain": [
       "Sanity Checking: |          | 0/? [00:00<?, ?it/s]"
      ]
     },
     "metadata": {},
     "output_type": "display_data"
    },
    {
     "data": {
      "application/vnd.jupyter.widget-view+json": {
       "model_id": "0d29c65a75d14796bbb511eb3e584fc3",
       "version_major": 2,
       "version_minor": 0
      },
      "text/plain": [
       "Training: |          | 0/? [00:00<?, ?it/s]"
      ]
     },
     "metadata": {},
     "output_type": "display_data"
    }
   ],
   "source": [
    "train_l,test_l = get_data_loader(args,task)\n",
    "model = MINDE(args,var_list={\"x\":task.dim_x,\"y\":task.dim_y}, gt = task.mutual_information)\n",
    "model.fit(train_l,test_l)"
   ]
  }
 ],
 "metadata": {
  "kernelspec": {
   "display_name": "Python 3 (ipykernel)",
   "language": "python",
   "name": "python3"
  },
  "language_info": {
   "codemirror_mode": {
    "name": "ipython",
    "version": 3
   },
   "file_extension": ".py",
   "mimetype": "text/x-python",
   "name": "python",
   "nbconvert_exporter": "python",
   "pygments_lexer": "ipython3",
   "version": "3.9.12"
  }
 },
 "nbformat": 4,
 "nbformat_minor": 4
}
