{
 "cells": [
  {
   "cell_type": "code",
   "execution_count": 1,
   "metadata": {},
   "outputs": [
    {
     "name": "stderr",
     "output_type": "stream",
     "text": [
      "/home/foresti/miniconda3/envs/minde/lib/python3.12/site-packages/jaxtyping/__init__.py:244: UserWarning: jaxtyping version >=0.2.23 should be used with Equinox version >=0.11.1\n",
      "  warnings.warn(\n"
     ]
    }
   ],
   "source": [
    "import jax\n",
    "jax.config.update('jax_platforms', 'cpu')\n",
    "import bmi\n",
    "from minde.minde import MINDE\n",
    "from minde.scripts.helper import get_data_loader, get_default_config"
   ]
  },
  {
   "cell_type": "code",
   "execution_count": 2,
   "metadata": {},
   "outputs": [
    {
     "data": {
      "text/plain": [
       "{'1v1-normal-0.75': <bmi.benchmark.task.Task at 0x7f9ed31167e0>,\n",
       " 'normal_cdf-1v1-normal-0.75': <bmi.benchmark.task.Task at 0x7f9ed31169c0>,\n",
       " '1v1-additive-0.1': <bmi.benchmark.task.Task at 0x7f9ed3116ea0>,\n",
       " '1v1-additive-0.75': <bmi.benchmark.task.Task at 0x7f9ed3116f00>,\n",
       " '1v1-bimodal-0.75': <bmi.benchmark.task.Task at 0x7f9ed3117bf0>,\n",
       " 'wiggly-1v1-normal-0.75': <bmi.benchmark.task.Task at 0x7f9ed3116f90>,\n",
       " 'half_cube-1v1-normal-0.75': <bmi.benchmark.task.Task at 0x7f9ed313c230>,\n",
       " 'student-identity-1-1-1': <bmi.benchmark.task.Task at 0x7f9ed3116d50>,\n",
       " 'asinh-student-identity-1-1-1': <bmi.benchmark.task.Task at 0x7f9ed313c590>,\n",
       " 'swissroll_x-normal_cdf-1v1-normal-0.75': <bmi.benchmark.task.Task at 0x7f9ed313c8f0>,\n",
       " 'multinormal-dense-2-2-0.5': <bmi.benchmark.task.Task at 0x7f9ed313cc50>,\n",
       " 'multinormal-dense-3-3-0.5': <bmi.benchmark.task.Task at 0x7f9ed313d010>,\n",
       " 'multinormal-dense-5-5-0.5': <bmi.benchmark.task.Task at 0x7f9ed313d070>,\n",
       " 'multinormal-dense-25-25-0.5': <bmi.benchmark.task.Task at 0x7f9ed313d1f0>,\n",
       " 'multinormal-dense-50-50-0.5': <bmi.benchmark.task.Task at 0x7f9ed313d370>,\n",
       " 'multinormal-sparse-2-2-2-2.0': <bmi.benchmark.task.Task at 0x7f9ed313d4c0>,\n",
       " 'multinormal-sparse-3-3-2-2.0': <bmi.benchmark.task.Task at 0x7f9ed313d4f0>,\n",
       " 'multinormal-sparse-5-5-2-2.0': <bmi.benchmark.task.Task at 0x7f9ed313d6d0>,\n",
       " 'multinormal-sparse-25-25-2-2.0': <bmi.benchmark.task.Task at 0x7f9ed313d8e0>,\n",
       " 'student-identity-2-2-1': <bmi.benchmark.task.Task at 0x7f9ed313dd30>,\n",
       " 'student-identity-2-2-2': <bmi.benchmark.task.Task at 0x7f9ed313dfa0>,\n",
       " 'student-identity-3-3-2': <bmi.benchmark.task.Task at 0x7f9ed313e1e0>,\n",
       " 'student-identity-3-3-3': <bmi.benchmark.task.Task at 0x7f9ed313e450>,\n",
       " 'student-identity-5-5-2': <bmi.benchmark.task.Task at 0x7f9ed329e1b0>,\n",
       " 'student-identity-5-5-3': <bmi.benchmark.task.Task at 0x7f9ed313e900>,\n",
       " 'normal_cdf-multinormal-sparse-3-3-2-2.0': <bmi.benchmark.task.Task at 0x7f9ed313f170>,\n",
       " 'normal_cdf-multinormal-sparse-5-5-2-2.0': <bmi.benchmark.task.Task at 0x7f9ed313f470>,\n",
       " 'normal_cdf-multinormal-sparse-25-25-2-2.0': <bmi.benchmark.task.Task at 0x7f9ed313f7d0>,\n",
       " 'half_cube-multinormal-sparse-3-3-2-2.0': <bmi.benchmark.task.Task at 0x7f9ed313f0b0>,\n",
       " 'half_cube-multinormal-sparse-5-5-2-2.0': <bmi.benchmark.task.Task at 0x7f9ed313ff50>,\n",
       " 'half_cube-multinormal-sparse-25-25-2-2.0': <bmi.benchmark.task.Task at 0x7f9ed31b8290>,\n",
       " 'spiral-multinormal-sparse-3-3-2-2.0': <bmi.benchmark.task.Task at 0x7f9ed105b140>,\n",
       " 'spiral-multinormal-sparse-5-5-2-2.0': <bmi.benchmark.task.Task at 0x7f9ed1086f60>,\n",
       " 'spiral-multinormal-sparse-25-25-2-2.0': <bmi.benchmark.task.Task at 0x7f9ed10aabd0>,\n",
       " 'spiral-normal_cdf-multinormal-sparse-3-3-2-2.0': <bmi.benchmark.task.Task at 0x7f9ed10c5400>,\n",
       " 'spiral-normal_cdf-multinormal-sparse-5-5-2-2.0': <bmi.benchmark.task.Task at 0x7f9ed10c5eb0>,\n",
       " 'spiral-normal_cdf-multinormal-sparse-25-25-2-2.0': <bmi.benchmark.task.Task at 0x7f9ed10c6780>,\n",
       " 'asinh-student-identity-2-2-1': <bmi.benchmark.task.Task at 0x7f9ed10a8530>,\n",
       " 'asinh-student-identity-3-3-2': <bmi.benchmark.task.Task at 0x7f9ed10c7260>,\n",
       " 'asinh-student-identity-5-5-2': <bmi.benchmark.task.Task at 0x7f9ed10c77a0>}"
      ]
     },
     "execution_count": 2,
     "metadata": {},
     "output_type": "execute_result"
    }
   ],
   "source": [
    "bmi.benchmark.BENCHMARK_TASKS"
   ]
  },
  {
   "cell_type": "code",
   "execution_count": 3,
   "metadata": {},
   "outputs": [
    {
     "data": {
      "text/plain": [
       "1.0216512475319774"
      ]
     },
     "execution_count": 3,
     "metadata": {},
     "output_type": "execute_result"
    }
   ],
   "source": [
    "bmi.benchmark.BENCHMARK_TASKS\n",
    "name_task = \"1v1-normal-0.75\"\n",
    "name_task = \"spiral-multinormal-sparse-25-25-2-2.0\"\n",
    "# name_task=\"spiral-normal_cdf-multinormal-sparse-5-5-2-2.0\"\n",
    "task = bmi.benchmark.BENCHMARK_TASKS[name_task]\n",
    "task.mutual_information"
   ]
  },
  {
   "cell_type": "code",
   "execution_count": 4,
   "metadata": {},
   "outputs": [],
   "source": [
    "args = get_default_config()\n",
    "args.type =\"j\"\n",
    "args.importance_sampling = True\n",
    "args.use_ema = True\n",
    "args.checkpoint_dir = r\"/home/foresti/minde/checkpoints\""
   ]
  },
  {
   "cell_type": "code",
   "execution_count": 5,
   "metadata": {},
   "outputs": [
    {
     "data": {
      "text/plain": [
       "25"
      ]
     },
     "execution_count": 5,
     "metadata": {},
     "output_type": "execute_result"
    }
   ],
   "source": [
    "task.dim_x\n",
    "task.dim_y"
   ]
  },
  {
   "cell_type": "code",
   "execution_count": 6,
   "metadata": {},
   "outputs": [],
   "source": [
    "X, Y = task.sample(10, seed=42)\n",
    "var_list = {}"
   ]
  },
  {
   "cell_type": "code",
   "execution_count": 7,
   "metadata": {},
   "outputs": [
    {
     "name": "stdout",
     "output_type": "stream",
     "text": [
      "(10, 25)\n",
      "<class 'jaxlib.xla_extension.ArrayImpl'>\n"
     ]
    }
   ],
   "source": [
    "print(X.shape)\n",
    "print(type(X))"
   ]
  },
  {
   "cell_type": "code",
   "execution_count": 8,
   "metadata": {},
   "outputs": [
    {
     "name": "stderr",
     "output_type": "stream",
     "text": [
      "/tmp/ipykernel_1511304/436664852.py:25: DeprecationWarning: `np.math` is a deprecated alias for the standard library `math` module (Deprecated Numpy 1.25). Replace usages of `np.math` with `math`\n",
      "  return np.math.comb(n,i)*p**i*(1-p)**(n-i)\n",
      "/tmp/ipykernel_1511304/436664852.py:15: DeprecationWarning: `np.math` is a deprecated alias for the standard library `math` module (Deprecated Numpy 1.25). Replace usages of `np.math` with `math`\n",
      "  return l**i*np.exp(-l)/np.math.factorial(i)\n"
     ]
    }
   ],
   "source": [
    "import numpy as np\n",
    "\n",
    "n = 100\n",
    "\n",
    "\n",
    "def generate_distribution(n, pmf, **kwargs):\n",
    "    p = np.zeros((n,1))\n",
    "    for i in range(n):\n",
    "        p[i] = pmf(i, n, **kwargs)\n",
    "    p = p/np.sum(p)\n",
    "    return p\n",
    "\n",
    "def poisson_pmf(i, n, **kwargs):\n",
    "    l = kwargs['l']\n",
    "    return l**i*np.exp(-l)/np.math.factorial(i)\n",
    "\n",
    "def uniform_pmf(i, n, **kwargs):\n",
    "    return 1/n\n",
    "\n",
    "def random_pmf(i, n, **kwargs):\n",
    "    return np.random.rand()\n",
    "\n",
    "def binomial_pmf(i, n, **kwargs):\n",
    "    p = kwargs['p']\n",
    "    return np.math.comb(n,i)*p**i*(1-p)**(n-i)\n",
    "\n",
    "p_0_a = generate_distribution(n, binomial_pmf, p=0.01)\n",
    "p_0_b = generate_distribution(n, poisson_pmf, l=0.5)\n",
    "\n",
    "# Calculate mutual information, not kl divergence"
   ]
  },
  {
   "cell_type": "code",
   "execution_count": 23,
   "metadata": {},
   "outputs": [
    {
     "name": "stdout",
     "output_type": "stream",
     "text": [
      "(100000, 1)\n",
      "(100000, 1)\n",
      "Some samples of X: [[5]\n",
      " [7]\n",
      " [6]\n",
      " [7]\n",
      " [6]\n",
      " [6]\n",
      " [8]\n",
      " [2]\n",
      " [3]\n",
      " [1]]\n",
      "Some samples of Y: [[3]\n",
      " [8]\n",
      " [2]\n",
      " [5]\n",
      " [0]\n",
      " [2]\n",
      " [8]\n",
      " [1]\n",
      " [5]\n",
      " [9]]\n",
      "x_samples.shape: (100000, 1)\n",
      "samples shape: (100000, 100)\n"
     ]
    }
   ],
   "source": [
    "from mutinfo.distributions.base import UniformlyQuantized\n",
    "from scipy.stats import norm  # Used as a base distribution (to be quantized), you can use any other having a `cdf` method.\n",
    "from scipy.stats import bernoulli, poisson, multinomial\n",
    "import numpy as np\n",
    "\n",
    "dim = 25\n",
    "mutual_information = 1.0/dim\n",
    "mutual_information = 1.0\n",
    "n_samples = 100000\n",
    "\n",
    "# random_variable = UniformlyQuantized(mutual_information, norm(loc=0.0, scale=1.0))\n",
    "# random_variable = UniformlyQuantized(mutual_information, bernoulli(0.5))\n",
    "# random_variable = UniformlyQuantized(mutual_information, poisson(4.0))\n",
    "\n",
    "X, Y = UniformlyQuantized(mutual_information, bernoulli(0.5)).rvs(n_samples)\n",
    "\n",
    "X = X.reshape(-1, 1)\n",
    "Y = Y.reshape(-1, 1)\n",
    "\n",
    "print(X.shape)\n",
    "print(Y.shape)\n",
    "\n",
    "# x and y are one-dimensional; stack x with independent z to increase the dimensionality.\n",
    "\n",
    "dist = np.load(r\"/home/foresti/minde/discrete_distributions/best_distribution_dim10_mutinfo01.npy\")\n",
    "\n",
    "# Flatten the joint distribution\n",
    "flat_dist = dist.flatten()\n",
    "\n",
    "# Sample from the multinomial distribution\n",
    "samples = multinomial.rvs(n=1, p=flat_dist, size=n_samples)\n",
    "\n",
    "# Convert 1D indices back to 2D indices\n",
    "indices = np.argmax(samples, axis=1)\n",
    "\n",
    "X, Y = np.unravel_index(indices, dist.shape)\n",
    "\n",
    "X = X.reshape(-1, 1)\n",
    "Y = Y.reshape(-1, 1)\n",
    "\n",
    "print(f\"Some samples of X: {X[:10]}\")\n",
    "print(f\"Some samples of Y: {Y[:10]}\")\n",
    "\n",
    "print(f\"x_samples.shape: {X.shape}\")\n",
    "print(f\"samples shape: {samples.shape}\")\n",
    "\n",
    "for i in range(15):\n",
    "    tmp_x = bernoulli(0.5).rvs(n_samples)\n",
    "    tmp_y = bernoulli(0.5).rvs(n_samples)\n",
    "    X = np.hstack((X, tmp_x.reshape(-1, 1)))\n",
    "    Y = np.hstack((Y, tmp_y.reshape(-1, 1)))"
   ]
  },
  {
   "cell_type": "code",
   "execution_count": 24,
   "metadata": {},
   "outputs": [
    {
     "name": "stderr",
     "output_type": "stream",
     "text": [
      "GPU available: True (cuda), used: True\n",
      "TPU available: False, using: 0 TPU cores\n",
      "IPU available: False, using: 0 IPUs\n",
      "HPU available: False, using: 0 HPUs\n",
      "LOCAL_RANK: 0 - CUDA_VISIBLE_DEVICES: [0,1,2,3]\n",
      "\n",
      "  | Name      | Type           | Params\n",
      "---------------------------------------------\n",
      "0 | score     | UnetMLP_simple | 42.8 K\n",
      "1 | model_ema | EMA            | 42.8 K\n",
      "---------------------------------------------\n",
      "85.5 K    Trainable params\n",
      "0         Non-trainable params\n",
      "85.5 K    Total params\n",
      "0.342     Total estimated model params size (MB)\n"
     ]
    },
    {
     "data": {
      "application/vnd.jupyter.widget-view+json": {
       "model_id": "c1e71da9e62d43399a6b56c42074bdb0",
       "version_major": 2,
       "version_minor": 0
      },
      "text/plain": [
       "Sanity Checking: |          | 0/? [00:00<?, ?it/s]"
      ]
     },
     "metadata": {},
     "output_type": "display_data"
    },
    {
     "name": "stderr",
     "output_type": "stream",
     "text": [
      "/home/foresti/miniconda3/envs/minde/lib/python3.12/site-packages/pytorch_lightning/trainer/connectors/data_connector.py:441: The 'val_dataloader' does not have many workers which may be a bottleneck. Consider increasing the value of the `num_workers` argument` to `num_workers=63` in the `DataLoader` to improve performance.\n",
      "/home/foresti/miniconda3/envs/minde/lib/python3.12/site-packages/pytorch_lightning/trainer/connectors/data_connector.py:441: The 'train_dataloader' does not have many workers which may be a bottleneck. Consider increasing the value of the `num_workers` argument` to `num_workers=63` in the `DataLoader` to improve performance.\n"
     ]
    },
    {
     "data": {
      "application/vnd.jupyter.widget-view+json": {
       "model_id": "4ba1b6f36a0c4e5bbf8c4dc4fbb051de",
       "version_major": 2,
       "version_minor": 0
      },
      "text/plain": [
       "Training: |          | 0/? [00:00<?, ?it/s]"
      ]
     },
     "metadata": {},
     "output_type": "display_data"
    },
    {
     "name": "stdout",
     "output_type": "stream",
     "text": [
      "Epoch:  1  GT:  Not given MINDE_estimate:  0.42 MINDE_sigma_estimate:  3.179\n",
      "Epoch:  2  GT:  Not given MINDE_estimate:  0.402 MINDE_sigma_estimate:  3.142\n",
      "Epoch:  3  GT:  Not given MINDE_estimate:  0.341 MINDE_sigma_estimate:  2.76\n",
      "Epoch:  4  GT:  Not given MINDE_estimate:  0.257 MINDE_sigma_estimate:  2.289\n",
      "Epoch:  5  GT:  Not given MINDE_estimate:  0.209 MINDE_sigma_estimate:  1.849\n",
      "Epoch:  6  GT:  Not given MINDE_estimate:  0.184 MINDE_sigma_estimate:  1.369\n",
      "Epoch:  7  GT:  Not given MINDE_estimate:  0.178 MINDE_sigma_estimate:  1.016\n",
      "Epoch:  8  GT:  Not given MINDE_estimate:  0.182 MINDE_sigma_estimate:  0.914\n",
      "Epoch:  9  GT:  Not given MINDE_estimate:  0.194 MINDE_sigma_estimate:  0.775\n",
      "Epoch:  10  GT:  Not given MINDE_estimate:  0.213 MINDE_sigma_estimate:  0.631\n",
      "Epoch:  11  GT:  Not given MINDE_estimate:  0.23 MINDE_sigma_estimate:  0.537\n",
      "Epoch:  12  GT:  Not given MINDE_estimate:  0.25 MINDE_sigma_estimate:  0.579\n",
      "Epoch:  13  GT:  Not given MINDE_estimate:  0.276 MINDE_sigma_estimate:  0.542\n",
      "Epoch:  14  GT:  Not given MINDE_estimate:  0.277 MINDE_sigma_estimate:  0.486\n",
      "Epoch:  15  GT:  Not given MINDE_estimate:  0.282 MINDE_sigma_estimate:  0.488\n",
      "Epoch:  16  GT:  Not given MINDE_estimate:  0.303 MINDE_sigma_estimate:  0.476\n",
      "Epoch:  17  GT:  Not given MINDE_estimate:  0.303 MINDE_sigma_estimate:  0.513\n",
      "Epoch:  18  GT:  Not given MINDE_estimate:  0.322 MINDE_sigma_estimate:  0.602\n",
      "Epoch:  19  GT:  Not given MINDE_estimate:  0.345 MINDE_sigma_estimate:  0.494\n",
      "Epoch:  20  GT:  Not given MINDE_estimate:  0.355 MINDE_sigma_estimate:  0.628\n",
      "Epoch:  21  GT:  Not given MINDE_estimate:  0.372 MINDE_sigma_estimate:  0.824\n",
      "Epoch:  22  GT:  Not given MINDE_estimate:  0.376 MINDE_sigma_estimate:  0.804\n",
      "Epoch:  23  GT:  Not given MINDE_estimate:  0.385 MINDE_sigma_estimate:  0.793\n",
      "Epoch:  24  GT:  Not given MINDE_estimate:  0.388 MINDE_sigma_estimate:  0.639\n",
      "Epoch:  25  GT:  Not given MINDE_estimate:  0.395 MINDE_sigma_estimate:  0.472\n",
      "Epoch:  26  GT:  Not given MINDE_estimate:  0.394 MINDE_sigma_estimate:  0.541\n",
      "Epoch:  27  GT:  Not given MINDE_estimate:  0.425 MINDE_sigma_estimate:  0.667\n",
      "Epoch:  28  GT:  Not given MINDE_estimate:  0.436 MINDE_sigma_estimate:  0.725\n",
      "Epoch:  29  GT:  Not given MINDE_estimate:  0.466 MINDE_sigma_estimate:  0.652\n",
      "Epoch:  30  GT:  Not given MINDE_estimate:  0.482 MINDE_sigma_estimate:  0.658\n",
      "Epoch:  31  GT:  Not given MINDE_estimate:  0.478 MINDE_sigma_estimate:  0.476\n",
      "Epoch:  32  GT:  Not given MINDE_estimate:  0.483 MINDE_sigma_estimate:  0.545\n",
      "Epoch:  33  GT:  Not given MINDE_estimate:  0.497 MINDE_sigma_estimate:  0.629\n",
      "Epoch:  34  GT:  Not given MINDE_estimate:  0.52 MINDE_sigma_estimate:  0.727\n",
      "Epoch:  35  GT:  Not given MINDE_estimate:  0.525 MINDE_sigma_estimate:  0.621\n",
      "Epoch:  36  GT:  Not given MINDE_estimate:  0.578 MINDE_sigma_estimate:  0.564\n",
      "Epoch:  37  GT:  Not given MINDE_estimate:  0.596 MINDE_sigma_estimate:  0.567\n",
      "Epoch:  38  GT:  Not given MINDE_estimate:  0.589 MINDE_sigma_estimate:  0.535\n",
      "Epoch:  39  GT:  Not given MINDE_estimate:  0.613 MINDE_sigma_estimate:  0.486\n",
      "Epoch:  40  GT:  Not given MINDE_estimate:  0.581 MINDE_sigma_estimate:  0.449\n",
      "Epoch:  41  GT:  Not given MINDE_estimate:  0.627 MINDE_sigma_estimate:  0.4\n",
      "Epoch:  42  GT:  Not given MINDE_estimate:  0.647 MINDE_sigma_estimate:  0.462\n",
      "Epoch:  43  GT:  Not given MINDE_estimate:  0.657 MINDE_sigma_estimate:  0.515\n",
      "Epoch:  44  GT:  Not given MINDE_estimate:  0.682 MINDE_sigma_estimate:  0.598\n",
      "Epoch:  45  GT:  Not given MINDE_estimate:  0.67 MINDE_sigma_estimate:  0.613\n",
      "Epoch:  46  GT:  Not given MINDE_estimate:  0.695 MINDE_sigma_estimate:  0.606\n",
      "Epoch:  47  GT:  Not given MINDE_estimate:  0.705 MINDE_sigma_estimate:  0.578\n",
      "Epoch:  48  GT:  Not given MINDE_estimate:  0.744 MINDE_sigma_estimate:  0.638\n"
     ]
    },
    {
     "data": {
      "application/vnd.jupyter.widget-view+json": {
       "model_id": "db9322ccb10647d885ef43e81ca6fd94",
       "version_major": 2,
       "version_minor": 0
      },
      "text/plain": [
       "Validation: |          | 0/? [00:00<?, ?it/s]"
      ]
     },
     "metadata": {},
     "output_type": "display_data"
    },
    {
     "name": "stdout",
     "output_type": "stream",
     "text": [
      "Epoch:  49  GT:  Not given MINDE_estimate:  0.742 MINDE_sigma_estimate:  0.557\n",
      "Epoch:  50  GT:  Not given MINDE_estimate:  0.756 MINDE_sigma_estimate:  0.501\n",
      "Epoch:  51  GT:  Not given MINDE_estimate:  0.771 MINDE_sigma_estimate:  0.496\n",
      "Epoch:  52  GT:  Not given MINDE_estimate:  0.798 MINDE_sigma_estimate:  0.608\n",
      "Epoch:  53  GT:  Not given MINDE_estimate:  0.818 MINDE_sigma_estimate:  0.689\n",
      "Epoch:  54  GT:  Not given MINDE_estimate:  0.81 MINDE_sigma_estimate:  0.662\n",
      "Epoch:  55  GT:  Not given MINDE_estimate:  0.823 MINDE_sigma_estimate:  0.71\n",
      "Epoch:  56  GT:  Not given MINDE_estimate:  0.81 MINDE_sigma_estimate:  0.672\n",
      "Epoch:  57  GT:  Not given MINDE_estimate:  0.819 MINDE_sigma_estimate:  0.694\n",
      "Epoch:  58  GT:  Not given MINDE_estimate:  0.824 MINDE_sigma_estimate:  0.694\n",
      "Epoch:  59  GT:  Not given MINDE_estimate:  0.847 MINDE_sigma_estimate:  0.845\n",
      "Epoch:  60  GT:  Not given MINDE_estimate:  0.889 MINDE_sigma_estimate:  0.939\n",
      "Epoch:  61  GT:  Not given MINDE_estimate:  0.917 MINDE_sigma_estimate:  0.886\n",
      "Epoch:  62  GT:  Not given MINDE_estimate:  0.931 MINDE_sigma_estimate:  0.889\n",
      "Epoch:  63  GT:  Not given MINDE_estimate:  0.9 MINDE_sigma_estimate:  0.877\n",
      "Epoch:  64  GT:  Not given MINDE_estimate:  0.885 MINDE_sigma_estimate:  0.874\n",
      "Epoch:  65  GT:  Not given MINDE_estimate:  0.919 MINDE_sigma_estimate:  1.038\n",
      "Epoch:  66  GT:  Not given MINDE_estimate:  0.938 MINDE_sigma_estimate:  1.005\n",
      "Epoch:  67  GT:  Not given MINDE_estimate:  0.928 MINDE_sigma_estimate:  0.909\n",
      "Epoch:  68  GT:  Not given MINDE_estimate:  0.952 MINDE_sigma_estimate:  0.896\n",
      "Epoch:  69  GT:  Not given MINDE_estimate:  0.924 MINDE_sigma_estimate:  0.796\n",
      "Epoch:  70  GT:  Not given MINDE_estimate:  0.927 MINDE_sigma_estimate:  0.921\n",
      "Epoch:  71  GT:  Not given MINDE_estimate:  0.976 MINDE_sigma_estimate:  0.97\n",
      "Epoch:  72  GT:  Not given MINDE_estimate:  0.982 MINDE_sigma_estimate:  1.106\n",
      "Epoch:  73  GT:  Not given MINDE_estimate:  0.976 MINDE_sigma_estimate:  1.045\n",
      "Epoch:  74  GT:  Not given MINDE_estimate:  0.979 MINDE_sigma_estimate:  1.116\n",
      "Epoch:  75  GT:  Not given MINDE_estimate:  0.971 MINDE_sigma_estimate:  1.196\n",
      "Epoch:  76  GT:  Not given MINDE_estimate:  0.961 MINDE_sigma_estimate:  1.135\n",
      "Epoch:  77  GT:  Not given MINDE_estimate:  0.972 MINDE_sigma_estimate:  1.009\n",
      "Epoch:  78  GT:  Not given MINDE_estimate:  0.971 MINDE_sigma_estimate:  1.14\n",
      "Epoch:  79  GT:  Not given MINDE_estimate:  0.975 MINDE_sigma_estimate:  0.967\n",
      "Epoch:  80  GT:  Not given MINDE_estimate:  0.983 MINDE_sigma_estimate:  0.883\n",
      "Epoch:  81  GT:  Not given MINDE_estimate:  1.003 MINDE_sigma_estimate:  1.036\n",
      "Epoch:  82  GT:  Not given MINDE_estimate:  0.994 MINDE_sigma_estimate:  0.919\n",
      "Epoch:  83  GT:  Not given MINDE_estimate:  1.0 MINDE_sigma_estimate:  1.138\n",
      "Epoch:  84  GT:  Not given MINDE_estimate:  0.993 MINDE_sigma_estimate:  1.184\n",
      "Epoch:  85  GT:  Not given MINDE_estimate:  0.985 MINDE_sigma_estimate:  1.007\n",
      "Epoch:  86  GT:  Not given MINDE_estimate:  0.998 MINDE_sigma_estimate:  1.025\n",
      "Epoch:  87  GT:  Not given MINDE_estimate:  1.007 MINDE_sigma_estimate:  1.002\n",
      "Epoch:  88  GT:  Not given MINDE_estimate:  1.036 MINDE_sigma_estimate:  1.079\n",
      "Epoch:  89  GT:  Not given MINDE_estimate:  1.04 MINDE_sigma_estimate:  1.039\n",
      "Epoch:  90  GT:  Not given MINDE_estimate:  1.026 MINDE_sigma_estimate:  0.929\n",
      "Epoch:  91  GT:  Not given MINDE_estimate:  1.021 MINDE_sigma_estimate:  0.976\n",
      "Epoch:  92  GT:  Not given MINDE_estimate:  1.004 MINDE_sigma_estimate:  1.112\n",
      "Epoch:  93  GT:  Not given MINDE_estimate:  1.032 MINDE_sigma_estimate:  1.234\n",
      "Epoch:  94  GT:  Not given MINDE_estimate:  1.021 MINDE_sigma_estimate:  0.987\n",
      "Epoch:  95  GT:  Not given MINDE_estimate:  1.015 MINDE_sigma_estimate:  0.848\n",
      "Epoch:  96  GT:  Not given MINDE_estimate:  1.027 MINDE_sigma_estimate:  0.891\n",
      "Epoch:  97  GT:  Not given MINDE_estimate:  1.029 MINDE_sigma_estimate:  0.975\n",
      "Epoch:  98  GT:  Not given MINDE_estimate:  1.045 MINDE_sigma_estimate:  1.065\n"
     ]
    },
    {
     "data": {
      "application/vnd.jupyter.widget-view+json": {
       "model_id": "fabd499c66c942fa9b2fa4b80b1876ac",
       "version_major": 2,
       "version_minor": 0
      },
      "text/plain": [
       "Validation: |          | 0/? [00:00<?, ?it/s]"
      ]
     },
     "metadata": {},
     "output_type": "display_data"
    },
    {
     "name": "stdout",
     "output_type": "stream",
     "text": [
      "Epoch:  99  GT:  Not given MINDE_estimate:  1.022 MINDE_sigma_estimate:  1.031\n",
      "Epoch:  100  GT:  Not given MINDE_estimate:  1.028 MINDE_sigma_estimate:  1.078\n",
      "Epoch:  101  GT:  Not given MINDE_estimate:  1.054 MINDE_sigma_estimate:  1.1\n",
      "Epoch:  102  GT:  Not given MINDE_estimate:  1.04 MINDE_sigma_estimate:  1.186\n",
      "Epoch:  103  GT:  Not given MINDE_estimate:  1.045 MINDE_sigma_estimate:  1.247\n",
      "Epoch:  104  GT:  Not given MINDE_estimate:  1.064 MINDE_sigma_estimate:  1.096\n",
      "Epoch:  105  GT:  Not given MINDE_estimate:  1.051 MINDE_sigma_estimate:  1.099\n",
      "Epoch:  106  GT:  Not given MINDE_estimate:  1.054 MINDE_sigma_estimate:  0.998\n",
      "Epoch:  107  GT:  Not given MINDE_estimate:  1.079 MINDE_sigma_estimate:  0.981\n",
      "Epoch:  108  GT:  Not given MINDE_estimate:  1.089 MINDE_sigma_estimate:  1.033\n",
      "Epoch:  109  GT:  Not given MINDE_estimate:  1.057 MINDE_sigma_estimate:  1.004\n",
      "Epoch:  110  GT:  Not given MINDE_estimate:  1.08 MINDE_sigma_estimate:  1.131\n",
      "Epoch:  111  GT:  Not given MINDE_estimate:  1.097 MINDE_sigma_estimate:  1.137\n",
      "Epoch:  112  GT:  Not given MINDE_estimate:  1.055 MINDE_sigma_estimate:  1.08\n",
      "Epoch:  113  GT:  Not given MINDE_estimate:  1.096 MINDE_sigma_estimate:  1.312\n",
      "Epoch:  114  GT:  Not given MINDE_estimate:  1.102 MINDE_sigma_estimate:  1.326\n",
      "Epoch:  115  GT:  Not given MINDE_estimate:  1.083 MINDE_sigma_estimate:  1.354\n",
      "Epoch:  116  GT:  Not given MINDE_estimate:  1.106 MINDE_sigma_estimate:  1.191\n",
      "Epoch:  117  GT:  Not given MINDE_estimate:  1.103 MINDE_sigma_estimate:  1.217\n",
      "Epoch:  118  GT:  Not given MINDE_estimate:  1.074 MINDE_sigma_estimate:  1.153\n",
      "Epoch:  119  GT:  Not given MINDE_estimate:  1.088 MINDE_sigma_estimate:  1.137\n",
      "Epoch:  120  GT:  Not given MINDE_estimate:  1.082 MINDE_sigma_estimate:  1.089\n",
      "Epoch:  121  GT:  Not given MINDE_estimate:  1.082 MINDE_sigma_estimate:  1.062\n",
      "Epoch:  122  GT:  Not given MINDE_estimate:  1.099 MINDE_sigma_estimate:  0.996\n",
      "Epoch:  123  GT:  Not given MINDE_estimate:  1.107 MINDE_sigma_estimate:  1.113\n",
      "Epoch:  124  GT:  Not given MINDE_estimate:  1.133 MINDE_sigma_estimate:  1.094\n",
      "Epoch:  125  GT:  Not given MINDE_estimate:  1.127 MINDE_sigma_estimate:  1.28\n",
      "Epoch:  126  GT:  Not given MINDE_estimate:  1.16 MINDE_sigma_estimate:  1.236\n",
      "Epoch:  127  GT:  Not given MINDE_estimate:  1.117 MINDE_sigma_estimate:  1.186\n",
      "Epoch:  128  GT:  Not given MINDE_estimate:  1.091 MINDE_sigma_estimate:  1.032\n",
      "Epoch:  129  GT:  Not given MINDE_estimate:  1.116 MINDE_sigma_estimate:  1.1\n",
      "Epoch:  130  GT:  Not given MINDE_estimate:  1.136 MINDE_sigma_estimate:  1.224\n",
      "Epoch:  131  GT:  Not given MINDE_estimate:  1.127 MINDE_sigma_estimate:  1.141\n",
      "Epoch:  132  GT:  Not given MINDE_estimate:  1.125 MINDE_sigma_estimate:  1.139\n",
      "Epoch:  133  GT:  Not given MINDE_estimate:  1.142 MINDE_sigma_estimate:  1.148\n",
      "Epoch:  134  GT:  Not given MINDE_estimate:  1.119 MINDE_sigma_estimate:  1.179\n",
      "Epoch:  135  GT:  Not given MINDE_estimate:  1.112 MINDE_sigma_estimate:  1.262\n",
      "Epoch:  136  GT:  Not given MINDE_estimate:  1.113 MINDE_sigma_estimate:  1.214\n",
      "Epoch:  137  GT:  Not given MINDE_estimate:  1.151 MINDE_sigma_estimate:  1.301\n",
      "Epoch:  138  GT:  Not given MINDE_estimate:  1.149 MINDE_sigma_estimate:  1.155\n",
      "Epoch:  139  GT:  Not given MINDE_estimate:  1.16 MINDE_sigma_estimate:  1.026\n",
      "Epoch:  140  GT:  Not given MINDE_estimate:  1.147 MINDE_sigma_estimate:  1.197\n",
      "Epoch:  141  GT:  Not given MINDE_estimate:  1.136 MINDE_sigma_estimate:  1.222\n",
      "Epoch:  142  GT:  Not given MINDE_estimate:  1.155 MINDE_sigma_estimate:  1.273\n",
      "Epoch:  143  GT:  Not given MINDE_estimate:  1.135 MINDE_sigma_estimate:  1.137\n",
      "Epoch:  144  GT:  Not given MINDE_estimate:  1.135 MINDE_sigma_estimate:  1.285\n",
      "Epoch:  145  GT:  Not given MINDE_estimate:  1.156 MINDE_sigma_estimate:  1.243\n",
      "Epoch:  146  GT:  Not given MINDE_estimate:  1.158 MINDE_sigma_estimate:  1.198\n",
      "Epoch:  147  GT:  Not given MINDE_estimate:  1.189 MINDE_sigma_estimate:  1.272\n",
      "Epoch:  148  GT:  Not given MINDE_estimate:  1.183 MINDE_sigma_estimate:  1.287\n"
     ]
    },
    {
     "data": {
      "application/vnd.jupyter.widget-view+json": {
       "model_id": "c180e83f75cc402d99466d4f9d8c33e3",
       "version_major": 2,
       "version_minor": 0
      },
      "text/plain": [
       "Validation: |          | 0/? [00:00<?, ?it/s]"
      ]
     },
     "metadata": {},
     "output_type": "display_data"
    },
    {
     "name": "stdout",
     "output_type": "stream",
     "text": [
      "Epoch:  149  GT:  Not given MINDE_estimate:  1.176 MINDE_sigma_estimate:  1.397\n",
      "Epoch:  150  GT:  Not given MINDE_estimate:  1.192 MINDE_sigma_estimate:  1.193\n",
      "Epoch:  151  GT:  Not given MINDE_estimate:  1.178 MINDE_sigma_estimate:  1.25\n",
      "Epoch:  152  GT:  Not given MINDE_estimate:  1.191 MINDE_sigma_estimate:  1.163\n",
      "Epoch:  153  GT:  Not given MINDE_estimate:  1.16 MINDE_sigma_estimate:  1.333\n",
      "Epoch:  154  GT:  Not given MINDE_estimate:  1.147 MINDE_sigma_estimate:  1.28\n",
      "Epoch:  155  GT:  Not given MINDE_estimate:  1.149 MINDE_sigma_estimate:  1.352\n",
      "Epoch:  156  GT:  Not given MINDE_estimate:  1.167 MINDE_sigma_estimate:  1.242\n",
      "Epoch:  157  GT:  Not given MINDE_estimate:  1.156 MINDE_sigma_estimate:  1.199\n",
      "Epoch:  158  GT:  Not given MINDE_estimate:  1.122 MINDE_sigma_estimate:  1.31\n",
      "Epoch:  159  GT:  Not given MINDE_estimate:  1.138 MINDE_sigma_estimate:  1.164\n",
      "Epoch:  160  GT:  Not given MINDE_estimate:  1.142 MINDE_sigma_estimate:  1.237\n",
      "Epoch:  161  GT:  Not given MINDE_estimate:  1.175 MINDE_sigma_estimate:  1.292\n",
      "Epoch:  162  GT:  Not given MINDE_estimate:  1.172 MINDE_sigma_estimate:  1.25\n",
      "Epoch:  163  GT:  Not given MINDE_estimate:  1.171 MINDE_sigma_estimate:  1.152\n",
      "Epoch:  164  GT:  Not given MINDE_estimate:  1.165 MINDE_sigma_estimate:  1.183\n",
      "Epoch:  165  GT:  Not given MINDE_estimate:  1.171 MINDE_sigma_estimate:  1.139\n",
      "Epoch:  166  GT:  Not given MINDE_estimate:  1.158 MINDE_sigma_estimate:  1.196\n",
      "Epoch:  167  GT:  Not given MINDE_estimate:  1.182 MINDE_sigma_estimate:  1.388\n",
      "Epoch:  168  GT:  Not given MINDE_estimate:  1.184 MINDE_sigma_estimate:  1.22\n",
      "Epoch:  169  GT:  Not given MINDE_estimate:  1.19 MINDE_sigma_estimate:  1.251\n",
      "Epoch:  170  GT:  Not given MINDE_estimate:  1.141 MINDE_sigma_estimate:  1.127\n",
      "Epoch:  171  GT:  Not given MINDE_estimate:  1.134 MINDE_sigma_estimate:  1.085\n",
      "Epoch:  172  GT:  Not given MINDE_estimate:  1.13 MINDE_sigma_estimate:  1.103\n",
      "Epoch:  173  GT:  Not given MINDE_estimate:  1.16 MINDE_sigma_estimate:  1.328\n",
      "Epoch:  174  GT:  Not given MINDE_estimate:  1.153 MINDE_sigma_estimate:  1.321\n",
      "Epoch:  175  GT:  Not given MINDE_estimate:  1.167 MINDE_sigma_estimate:  1.357\n",
      "Epoch:  176  GT:  Not given MINDE_estimate:  1.161 MINDE_sigma_estimate:  1.322\n",
      "Epoch:  177  GT:  Not given MINDE_estimate:  1.173 MINDE_sigma_estimate:  1.227\n",
      "Epoch:  178  GT:  Not given MINDE_estimate:  1.169 MINDE_sigma_estimate:  1.271\n",
      "Epoch:  179  GT:  Not given MINDE_estimate:  1.184 MINDE_sigma_estimate:  1.236\n",
      "Epoch:  180  GT:  Not given MINDE_estimate:  1.188 MINDE_sigma_estimate:  1.05\n",
      "Epoch:  181  GT:  Not given MINDE_estimate:  1.213 MINDE_sigma_estimate:  1.145\n",
      "Epoch:  182  GT:  Not given MINDE_estimate:  1.197 MINDE_sigma_estimate:  1.138\n",
      "Epoch:  183  GT:  Not given MINDE_estimate:  1.213 MINDE_sigma_estimate:  1.1\n",
      "Epoch:  184  GT:  Not given MINDE_estimate:  1.196 MINDE_sigma_estimate:  1.119\n",
      "Epoch:  185  GT:  Not given MINDE_estimate:  1.197 MINDE_sigma_estimate:  1.025\n",
      "Epoch:  186  GT:  Not given MINDE_estimate:  1.193 MINDE_sigma_estimate:  1.259\n",
      "Epoch:  187  GT:  Not given MINDE_estimate:  1.198 MINDE_sigma_estimate:  1.293\n",
      "Epoch:  188  GT:  Not given MINDE_estimate:  1.169 MINDE_sigma_estimate:  1.227\n",
      "Epoch:  189  GT:  Not given MINDE_estimate:  1.173 MINDE_sigma_estimate:  1.202\n",
      "Epoch:  190  GT:  Not given MINDE_estimate:  1.174 MINDE_sigma_estimate:  1.071\n",
      "Epoch:  191  GT:  Not given MINDE_estimate:  1.184 MINDE_sigma_estimate:  1.211\n",
      "Epoch:  192  GT:  Not given MINDE_estimate:  1.182 MINDE_sigma_estimate:  0.968\n",
      "Epoch:  193  GT:  Not given MINDE_estimate:  1.177 MINDE_sigma_estimate:  1.058\n",
      "Epoch:  194  GT:  Not given MINDE_estimate:  1.146 MINDE_sigma_estimate:  1.111\n",
      "Epoch:  195  GT:  Not given MINDE_estimate:  1.16 MINDE_sigma_estimate:  1.036\n",
      "Epoch:  196  GT:  Not given MINDE_estimate:  1.185 MINDE_sigma_estimate:  1.255\n",
      "Epoch:  197  GT:  Not given MINDE_estimate:  1.166 MINDE_sigma_estimate:  1.198\n",
      "Epoch:  198  GT:  Not given MINDE_estimate:  1.185 MINDE_sigma_estimate:  1.19\n"
     ]
    },
    {
     "data": {
      "application/vnd.jupyter.widget-view+json": {
       "model_id": "ed7f4c0cc4c54db9b2de7d9add48a595",
       "version_major": 2,
       "version_minor": 0
      },
      "text/plain": [
       "Validation: |          | 0/? [00:00<?, ?it/s]"
      ]
     },
     "metadata": {},
     "output_type": "display_data"
    },
    {
     "name": "stdout",
     "output_type": "stream",
     "text": [
      "Epoch:  199  GT:  Not given MINDE_estimate:  1.165 MINDE_sigma_estimate:  1.167\n",
      "Epoch:  200  GT:  Not given MINDE_estimate:  1.173 MINDE_sigma_estimate:  1.212\n",
      "Epoch:  201  GT:  Not given MINDE_estimate:  1.144 MINDE_sigma_estimate:  1.009\n",
      "Epoch:  202  GT:  Not given MINDE_estimate:  1.162 MINDE_sigma_estimate:  1.092\n",
      "Epoch:  203  GT:  Not given MINDE_estimate:  1.152 MINDE_sigma_estimate:  1.172\n",
      "Epoch:  204  GT:  Not given MINDE_estimate:  1.188 MINDE_sigma_estimate:  1.109\n",
      "Epoch:  205  GT:  Not given MINDE_estimate:  1.18 MINDE_sigma_estimate:  1.219\n",
      "Epoch:  206  GT:  Not given MINDE_estimate:  1.21 MINDE_sigma_estimate:  1.244\n",
      "Epoch:  207  GT:  Not given MINDE_estimate:  1.174 MINDE_sigma_estimate:  1.167\n",
      "Epoch:  208  GT:  Not given MINDE_estimate:  1.184 MINDE_sigma_estimate:  1.136\n",
      "Epoch:  209  GT:  Not given MINDE_estimate:  1.199 MINDE_sigma_estimate:  0.999\n",
      "Epoch:  210  GT:  Not given MINDE_estimate:  1.206 MINDE_sigma_estimate:  1.097\n",
      "Epoch:  211  GT:  Not given MINDE_estimate:  1.185 MINDE_sigma_estimate:  1.097\n",
      "Epoch:  212  GT:  Not given MINDE_estimate:  1.163 MINDE_sigma_estimate:  1.264\n",
      "Epoch:  213  GT:  Not given MINDE_estimate:  1.176 MINDE_sigma_estimate:  1.292\n",
      "Epoch:  214  GT:  Not given MINDE_estimate:  1.185 MINDE_sigma_estimate:  1.305\n",
      "Epoch:  215  GT:  Not given MINDE_estimate:  1.173 MINDE_sigma_estimate:  1.334\n",
      "Epoch:  216  GT:  Not given MINDE_estimate:  1.168 MINDE_sigma_estimate:  1.216\n",
      "Epoch:  217  GT:  Not given MINDE_estimate:  1.17 MINDE_sigma_estimate:  1.196\n",
      "Epoch:  218  GT:  Not given MINDE_estimate:  1.154 MINDE_sigma_estimate:  1.191\n",
      "Epoch:  219  GT:  Not given MINDE_estimate:  1.171 MINDE_sigma_estimate:  1.207\n",
      "Epoch:  220  GT:  Not given MINDE_estimate:  1.18 MINDE_sigma_estimate:  1.227\n",
      "Epoch:  221  GT:  Not given MINDE_estimate:  1.194 MINDE_sigma_estimate:  1.18\n",
      "Epoch:  222  GT:  Not given MINDE_estimate:  1.2 MINDE_sigma_estimate:  1.246\n",
      "Epoch:  223  GT:  Not given MINDE_estimate:  1.161 MINDE_sigma_estimate:  1.267\n",
      "Epoch:  224  GT:  Not given MINDE_estimate:  1.154 MINDE_sigma_estimate:  1.354\n",
      "Epoch:  225  GT:  Not given MINDE_estimate:  1.163 MINDE_sigma_estimate:  1.324\n",
      "Epoch:  226  GT:  Not given MINDE_estimate:  1.172 MINDE_sigma_estimate:  1.322\n",
      "Epoch:  227  GT:  Not given MINDE_estimate:  1.165 MINDE_sigma_estimate:  1.29\n",
      "Epoch:  228  GT:  Not given MINDE_estimate:  1.198 MINDE_sigma_estimate:  1.303\n",
      "Epoch:  229  GT:  Not given MINDE_estimate:  1.18 MINDE_sigma_estimate:  1.229\n",
      "Epoch:  230  GT:  Not given MINDE_estimate:  1.203 MINDE_sigma_estimate:  1.414\n",
      "Epoch:  231  GT:  Not given MINDE_estimate:  1.198 MINDE_sigma_estimate:  1.281\n",
      "Epoch:  232  GT:  Not given MINDE_estimate:  1.203 MINDE_sigma_estimate:  1.171\n",
      "Epoch:  233  GT:  Not given MINDE_estimate:  1.172 MINDE_sigma_estimate:  1.159\n",
      "Epoch:  234  GT:  Not given MINDE_estimate:  1.189 MINDE_sigma_estimate:  1.24\n",
      "Epoch:  235  GT:  Not given MINDE_estimate:  1.167 MINDE_sigma_estimate:  1.151\n",
      "Epoch:  236  GT:  Not given MINDE_estimate:  1.165 MINDE_sigma_estimate:  1.166\n",
      "Epoch:  237  GT:  Not given MINDE_estimate:  1.202 MINDE_sigma_estimate:  1.163\n",
      "Epoch:  238  GT:  Not given MINDE_estimate:  1.161 MINDE_sigma_estimate:  1.028\n",
      "Epoch:  239  GT:  Not given MINDE_estimate:  1.154 MINDE_sigma_estimate:  1.254\n",
      "Epoch:  240  GT:  Not given MINDE_estimate:  1.145 MINDE_sigma_estimate:  1.341\n",
      "Epoch:  241  GT:  Not given MINDE_estimate:  1.185 MINDE_sigma_estimate:  1.362\n",
      "Epoch:  242  GT:  Not given MINDE_estimate:  1.213 MINDE_sigma_estimate:  1.486\n",
      "Epoch:  243  GT:  Not given MINDE_estimate:  1.171 MINDE_sigma_estimate:  1.277\n",
      "Epoch:  244  GT:  Not given MINDE_estimate:  1.169 MINDE_sigma_estimate:  1.114\n",
      "Epoch:  245  GT:  Not given MINDE_estimate:  1.17 MINDE_sigma_estimate:  1.228\n",
      "Epoch:  246  GT:  Not given MINDE_estimate:  1.175 MINDE_sigma_estimate:  1.118\n",
      "Epoch:  247  GT:  Not given MINDE_estimate:  1.153 MINDE_sigma_estimate:  1.218\n",
      "Epoch:  248  GT:  Not given MINDE_estimate:  1.168 MINDE_sigma_estimate:  1.054\n"
     ]
    },
    {
     "data": {
      "application/vnd.jupyter.widget-view+json": {
       "model_id": "03554301df7944c98ff6f046df5530a6",
       "version_major": 2,
       "version_minor": 0
      },
      "text/plain": [
       "Validation: |          | 0/? [00:00<?, ?it/s]"
      ]
     },
     "metadata": {},
     "output_type": "display_data"
    },
    {
     "name": "stderr",
     "output_type": "stream",
     "text": [
      "`Trainer.fit` stopped: `max_epochs=250` reached.\n"
     ]
    },
    {
     "name": "stdout",
     "output_type": "stream",
     "text": [
      "Epoch:  249  GT:  Not given MINDE_estimate:  1.207 MINDE_sigma_estimate:  1.12\n",
      "Estimated MI: 1.2069902062416076 ± 0.007543636600601131\n",
      "Estimated MI (σ): 1.2096484184265137 ± 0.03475201919223078\n"
     ]
    },
    {
     "ename": "UserWarning",
     "evalue": "stop here",
     "output_type": "error",
     "traceback": [
      "\u001b[0;31m---------------------------------------------------------------------------\u001b[0m",
      "\u001b[0;31mUserWarning\u001b[0m                               Traceback (most recent call last)",
      "Cell \u001b[0;32mIn[24], line 14\u001b[0m\n\u001b[1;32m     11\u001b[0m model \u001b[38;5;241m=\u001b[39m MINDE(args, var_list\u001b[38;5;241m=\u001b[39mvar_list)\n\u001b[1;32m     12\u001b[0m val \u001b[38;5;241m=\u001b[39m model(X, Y, std\u001b[38;5;241m=\u001b[39m\u001b[38;5;28;01mTrue\u001b[39;00m)\n\u001b[0;32m---> 14\u001b[0m \u001b[38;5;28;01mraise\u001b[39;00m \u001b[38;5;167;01mUserWarning\u001b[39;00m(\u001b[38;5;124m\"\u001b[39m\u001b[38;5;124mstop here\u001b[39m\u001b[38;5;124m\"\u001b[39m)\n",
      "\u001b[0;31mUserWarning\u001b[0m: stop here"
     ]
    }
   ],
   "source": [
    "from minde.minde import MINDE\n",
    "from minde.scripts.helper import get_data_loader, get_default_config\n",
    "\n",
    "args = get_default_config()\n",
    "args.type =\"j\"\n",
    "args.importance_sampling = True\n",
    "args.use_ema = True\n",
    "args.checkpoint_dir = r\"/home/foresti/minde/checkpoints\"\n",
    "\n",
    "var_list = {\"x\": X.shape[1], \"y\": Y.shape[1]}\n",
    "model = MINDE(args, var_list=var_list)\n",
    "val = model(X, Y, std=True)"
   ]
  },
  {
   "cell_type": "code",
   "execution_count": 28,
   "metadata": {},
   "outputs": [],
   "source": [
    "import torch\n",
    "\n",
    "results = []\n",
    "dist = np.load(r\"/home/foresti/minde/discrete_distributions/best_distribution_dim10_mutinfo01.npy\")\n",
    "\n",
    "random_states = np.random.randint(0, 10000, 10)\n",
    "\n",
    "for i in range(10):\n",
    "\n",
    "    # Flatten the joint distribution\n",
    "    flat_dist = dist.flatten()\n",
    "\n",
    "    # Sample from the multinomial distribution\n",
    "    samples = multinomial.rvs(n=1, p=flat_dist, size=10000, random_state=random_states[i])\n",
    "\n",
    "    # Convert 1D indices back to 2D indices\n",
    "    indices = np.argmax(samples, axis=1)\n",
    "\n",
    "    X, Y = np.unravel_index(indices, dist.shape)\n",
    "\n",
    "    X = X.reshape(-1, 1)\n",
    "    Y = Y.reshape(-1, 1)\n",
    "\n",
    "    data = {\"x\": torch.tensor(X, dtype=torch.float16), \"y\": torch.tensor(Y, dtype=torch.float16)}\n",
    "\n",
    "    results.append(model.compute_mi(data))\n"
   ]
  },
  {
   "cell_type": "code",
   "execution_count": 33,
   "metadata": {},
   "outputs": [
    {
     "name": "stdout",
     "output_type": "stream",
     "text": [
      "[(1.210412049293518, 1.1783383369445801), (1.2140458583831788, 1.3137072563171386), (1.1958403944969178, 1.113105869293213), (1.1936938524246217, 1.1951070785522462), (1.2039091825485229, 1.2243215560913085), (1.214068603515625, 1.203419017791748), (1.2202549815177917, 1.2400245666503906), (1.1992243885993958, 1.2543378829956056), (1.22505863904953, 1.2018019676208496), (1.193651258945465, 1.2153966903686524)]\n",
      "mi: 1.2070159208774567\n",
      "mi sigma: 1.2139560222625732\n"
     ]
    }
   ],
   "source": [
    "print(results)\n",
    "res_mi = [r[0] for r in results]\n",
    "res_mi_sigma = [r[1] for r in results]\n",
    "\n",
    "print(f\"mi: {np.mean(res_mi)}\")\n",
    "print(f\"mi sigma: {np.mean(res_mi_sigma)}\")"
   ]
  },
  {
   "cell_type": "code",
   "execution_count": 34,
   "metadata": {},
   "outputs": [
    {
     "name": "stdout",
     "output_type": "stream",
     "text": [
      "(10000, 1)\n"
     ]
    }
   ],
   "source": [
    "print(X.shape)"
   ]
  }
 ],
 "metadata": {
  "kernelspec": {
   "display_name": "Python 3 (ipykernel)",
   "language": "python",
   "name": "python3"
  },
  "language_info": {
   "codemirror_mode": {
    "name": "ipython",
    "version": 3
   },
   "file_extension": ".py",
   "mimetype": "text/x-python",
   "name": "python",
   "nbconvert_exporter": "python",
   "pygments_lexer": "ipython3",
   "version": "3.12.5"
  }
 },
 "nbformat": 4,
 "nbformat_minor": 4
}
