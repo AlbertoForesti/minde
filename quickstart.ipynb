{
 "cells": [
  {
   "cell_type": "code",
   "execution_count": 1,
   "metadata": {},
   "outputs": [
    {
     "name": "stderr",
     "output_type": "stream",
     "text": [
      "/home/bounoua/work/minde/myvenv/lib/python3.9/site-packages/jaxtyping/__init__.py:244: UserWarning: jaxtyping version >=0.2.23 should be used with Equinox version >=0.11.1\n",
      "  warnings.warn(\n"
     ]
    }
   ],
   "source": [
    "\n",
    "import jax\n",
    "jax.config.update('jax_platforms', 'cpu')\n",
    "import bmi\n",
    "from src.libs.minde import MINDE\n",
    "from src.scripts.helper import get_data_loader, get_default_config"
   ]
  },
  {
   "cell_type": "code",
   "execution_count": 7,
   "metadata": {},
   "outputs": [
    {
     "data": {
      "text/plain": [
       "{'1v1-normal-0.75': <bmi.benchmark.task.Task at 0x7f1981945190>,\n",
       " 'normal_cdf-1v1-normal-0.75': <bmi.benchmark.task.Task at 0x7f1981945430>,\n",
       " '1v1-additive-0.1': <bmi.benchmark.task.Task at 0x7f1981945a00>,\n",
       " '1v1-additive-0.75': <bmi.benchmark.task.Task at 0x7f1980852df0>,\n",
       " '1v1-bimodal-0.75': <bmi.benchmark.task.Task at 0x7f19808092e0>,\n",
       " 'wiggly-1v1-normal-0.75': <bmi.benchmark.task.Task at 0x7f198086e880>,\n",
       " 'half_cube-1v1-normal-0.75': <bmi.benchmark.task.Task at 0x7f19808098b0>,\n",
       " 'student-identity-1-1-1': <bmi.benchmark.task.Task at 0x7f1981945790>,\n",
       " 'asinh-student-identity-1-1-1': <bmi.benchmark.task.Task at 0x7f1980809ca0>,\n",
       " 'swissroll_x-normal_cdf-1v1-normal-0.75': <bmi.benchmark.task.Task at 0x7f198080d0d0>,\n",
       " 'multinormal-dense-2-2-0.5': <bmi.benchmark.task.Task at 0x7f198080d4c0>,\n",
       " 'multinormal-dense-3-3-0.5': <bmi.benchmark.task.Task at 0x7f198080d9d0>,\n",
       " 'multinormal-dense-5-5-0.5': <bmi.benchmark.task.Task at 0x7f198080da90>,\n",
       " 'multinormal-dense-25-25-0.5': <bmi.benchmark.task.Task at 0x7f198080dc70>,\n",
       " 'multinormal-dense-50-50-0.5': <bmi.benchmark.task.Task at 0x7f198080de50>,\n",
       " 'multinormal-sparse-2-2-2-2.0': <bmi.benchmark.task.Task at 0x7f198080dfa0>,\n",
       " 'multinormal-sparse-3-3-2-2.0': <bmi.benchmark.task.Task at 0x7f1980800070>,\n",
       " 'multinormal-sparse-5-5-2-2.0': <bmi.benchmark.task.Task at 0x7f1980800220>,\n",
       " 'multinormal-sparse-25-25-2-2.0': <bmi.benchmark.task.Task at 0x7f1980800400>,\n",
       " 'student-identity-2-2-1': <bmi.benchmark.task.Task at 0x7f19808007c0>,\n",
       " 'student-identity-2-2-2': <bmi.benchmark.task.Task at 0x7f1980800a00>,\n",
       " 'student-identity-3-3-2': <bmi.benchmark.task.Task at 0x7f1980800c10>,\n",
       " 'student-identity-3-3-3': <bmi.benchmark.task.Task at 0x7f1980800e20>,\n",
       " 'student-identity-5-5-2': <bmi.benchmark.task.Task at 0x7f1980789070>,\n",
       " 'student-identity-5-5-3': <bmi.benchmark.task.Task at 0x7f1980789280>,\n",
       " 'normal_cdf-multinormal-sparse-3-3-2-2.0': <bmi.benchmark.task.Task at 0x7f1980789a30>,\n",
       " 'normal_cdf-multinormal-sparse-5-5-2-2.0': <bmi.benchmark.task.Task at 0x7f1980789dc0>,\n",
       " 'normal_cdf-multinormal-sparse-25-25-2-2.0': <bmi.benchmark.task.Task at 0x7f198078f1c0>,\n",
       " 'half_cube-multinormal-sparse-3-3-2-2.0': <bmi.benchmark.task.Task at 0x7f198078f5b0>,\n",
       " 'half_cube-multinormal-sparse-5-5-2-2.0': <bmi.benchmark.task.Task at 0x7f198078f9a0>,\n",
       " 'half_cube-multinormal-sparse-25-25-2-2.0': <bmi.benchmark.task.Task at 0x7f198078fd90>,\n",
       " 'spiral-multinormal-sparse-3-3-2-2.0': <bmi.benchmark.task.Task at 0x7f19807922e0>,\n",
       " 'spiral-multinormal-sparse-5-5-2-2.0': <bmi.benchmark.task.Task at 0x7f182c6ee280>,\n",
       " 'spiral-multinormal-sparse-25-25-2-2.0': <bmi.benchmark.task.Task at 0x7f182c709640>,\n",
       " 'spiral-normal_cdf-multinormal-sparse-3-3-2-2.0': <bmi.benchmark.task.Task at 0x7f182c67ae20>,\n",
       " 'spiral-normal_cdf-multinormal-sparse-5-5-2-2.0': <bmi.benchmark.task.Task at 0x7f182c67e6d0>,\n",
       " 'spiral-normal_cdf-multinormal-sparse-25-25-2-2.0': <bmi.benchmark.task.Task at 0x7f182c67ef40>,\n",
       " 'asinh-student-identity-2-2-1': <bmi.benchmark.task.Task at 0x7f182c6886a0>,\n",
       " 'asinh-student-identity-3-3-2': <bmi.benchmark.task.Task at 0x7f182c688bb0>,\n",
       " 'asinh-student-identity-5-5-2': <bmi.benchmark.task.Task at 0x7f182c68a100>}"
      ]
     },
     "execution_count": 7,
     "metadata": {},
     "output_type": "execute_result"
    }
   ],
   "source": [
    "bmi.benchmark.BENCHMARK_TASKS"
   ]
  },
  {
   "cell_type": "code",
   "execution_count": 8,
   "metadata": {},
   "outputs": [
    {
     "data": {
      "text/plain": [
       "0.3333333333333333"
      ]
     },
     "execution_count": 8,
     "metadata": {},
     "output_type": "execute_result"
    }
   ],
   "source": [
    "bmi.benchmark.BENCHMARK_TASKS\n",
    "#name_task = \"1v1-normal-0.75\"\n",
    "name_task=\"1v1-additive-0.75\"\n",
    "task = bmi.benchmark.BENCHMARK_TASKS[name_task]\n",
    "task.mutual_information"
   ]
  },
  {
   "cell_type": "code",
   "execution_count": 9,
   "metadata": {},
   "outputs": [],
   "source": [
    "args = get_default_config()\n",
    "args.type =\"c\"\n",
    "args.test_epoch=1\n",
    "args.max_epochs=20\n",
    "args.warmup_epochs = 5\n",
    "args.bs =512\n",
    "args.lr = 1e-3\n",
    "args.arch = \"mlp\"\n",
    "args.importance_sampling = True\n",
    "args.use_ema = True\n"
   ]
  },
  {
   "cell_type": "code",
   "execution_count": 10,
   "metadata": {},
   "outputs": [
    {
     "name": "stderr",
     "output_type": "stream",
     "text": [
      "/home/bounoua/miniconda3/lib/python3.9/multiprocessing/popen_fork.py:66: RuntimeWarning: os.fork() was called. os.fork() is incompatible with multithreaded code, and JAX is multithreaded, so this will likely lead to a deadlock.\n",
      "  self.pid = os.fork()\n"
     ]
    },
    {
     "name": "stderr",
     "output_type": "stream",
     "text": [
      "/home/bounoua/miniconda3/lib/python3.9/multiprocessing/popen_fork.py:66: RuntimeWarning: os.fork() was called. os.fork() is incompatible with multithreaded code, and JAX is multithreaded, so this will likely lead to a deadlock.\n",
      "  self.pid = os.fork()\n",
      "GPU available: True (cuda), used: True\n",
      "TPU available: False, using: 0 TPU cores\n",
      "IPU available: False, using: 0 IPUs\n",
      "HPU available: False, using: 0 HPUs\n",
      "LOCAL_RANK: 0 - CUDA_VISIBLE_DEVICES: [0,1,2,3,4,5,6,7]\n",
      "\n",
      "  | Name      | Type           | Params\n",
      "---------------------------------------------\n",
      "0 | score     | UnetMLP_simple | 42.8 K\n",
      "1 | model_ema | EMA            | 42.8 K\n",
      "---------------------------------------------\n",
      "85.5 K    Trainable params\n",
      "0         Non-trainable params\n",
      "85.5 K    Total params\n",
      "0.342     Total estimated model params size (MB)\n"
     ]
    },
    {
     "data": {
      "application/vnd.jupyter.widget-view+json": {
       "model_id": "0e8703b22bf2424b93632108370c449f",
       "version_major": 2,
       "version_minor": 0
      },
      "text/plain": [
       "Sanity Checking: |          | 0/? [00:00<?, ?it/s]"
      ]
     },
     "metadata": {},
     "output_type": "display_data"
    },
    {
     "data": {
      "application/vnd.jupyter.widget-view+json": {
       "model_id": "e047b355eb6d4ed286e23b9c123c8488",
       "version_major": 2,
       "version_minor": 0
      },
      "text/plain": [
       "Training: |          | 0/? [00:00<?, ?it/s]"
      ]
     },
     "metadata": {},
     "output_type": "display_data"
    },
    {
     "name": "stdout",
     "output_type": "stream",
     "text": [
      "Epoch:  6  GT:  0.333 MINDE_estimate:  0.253 MINDE_sigma_estimate:  0.2\n",
      "Epoch:  7  GT:  0.333 MINDE_estimate:  0.254 MINDE_sigma_estimate:  0.199\n",
      "Epoch:  8  GT:  0.333 MINDE_estimate:  0.252 MINDE_sigma_estimate:  0.187\n",
      "Epoch:  9  GT:  0.333 MINDE_estimate:  0.262 MINDE_sigma_estimate:  0.262\n",
      "Epoch:  10  GT:  0.333 MINDE_estimate:  0.264 MINDE_sigma_estimate:  0.287\n"
     ]
    }
   ],
   "source": [
    "train_l,test_l = get_data_loader(args,task)\n",
    "model = MINDE(args,var_list={\"x\":task.dim_x,\"y\":task.dim_y}, gt = task.mutual_information)\n",
    "model.fit(train_l,test_l)\n",
    "\n"
   ]
  },
  {
   "cell_type": "code",
   "execution_count": null,
   "metadata": {},
   "outputs": [],
   "source": []
  }
 ],
 "metadata": {
  "kernelspec": {
   "display_name": "Python 3 (ipykernel)",
   "language": "python",
   "name": "python3"
  },
  "language_info": {
   "codemirror_mode": {
    "name": "ipython",
    "version": 3
   },
   "file_extension": ".py",
   "mimetype": "text/x-python",
   "name": "python",
   "nbconvert_exporter": "python",
   "pygments_lexer": "ipython3",
   "version": "3.9.12"
  }
 },
 "nbformat": 4,
 "nbformat_minor": 4
}
