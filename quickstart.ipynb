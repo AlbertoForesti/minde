{
 "cells": [
  {
   "cell_type": "code",
   "execution_count": 1,
   "metadata": {},
   "outputs": [
    {
     "name": "stderr",
     "output_type": "stream",
     "text": [
      "/home/alberto/miniconda3/envs/minde/lib/python3.12/site-packages/jaxtyping/__init__.py:244: UserWarning: jaxtyping version >=0.2.23 should be used with Equinox version >=0.11.1\n",
      "  warnings.warn(\n",
      "/home/alberto/miniconda3/envs/minde/lib/python3.12/site-packages/lightning_fabric/__init__.py:41: Module minde was already imported from None, but /home/alberto/minde is being added to sys.path\n"
     ]
    }
   ],
   "source": [
    "import jax\n",
    "jax.config.update('jax_platforms', 'cpu')\n",
    "import bmi\n",
    "from minde.minde import MINDE\n",
    "from minde.scripts.helper import get_data_loader, get_default_config"
   ]
  },
  {
   "cell_type": "code",
   "execution_count": 2,
   "metadata": {},
   "outputs": [
    {
     "data": {
      "text/plain": [
       "{'1v1-normal-0.75': <bmi.benchmark.task.Task at 0x7f14ef336720>,\n",
       " 'normal_cdf-1v1-normal-0.75': <bmi.benchmark.task.Task at 0x7f14ee53e240>,\n",
       " '1v1-additive-0.1': <bmi.benchmark.task.Task at 0x7f14eeafa4e0>,\n",
       " '1v1-additive-0.75': <bmi.benchmark.task.Task at 0x7f14ee18ebd0>,\n",
       " '1v1-bimodal-0.75': <bmi.benchmark.task.Task at 0x7f14ee18f8f0>,\n",
       " 'wiggly-1v1-normal-0.75': <bmi.benchmark.task.Task at 0x7f14ee18ec60>,\n",
       " 'half_cube-1v1-normal-0.75': <bmi.benchmark.task.Task at 0x7f14ee18fec0>,\n",
       " 'student-identity-1-1-1': <bmi.benchmark.task.Task at 0x7f14ee274140>,\n",
       " 'asinh-student-identity-1-1-1': <bmi.benchmark.task.Task at 0x7f14ee3189b0>,\n",
       " 'swissroll_x-normal_cdf-1v1-normal-0.75': <bmi.benchmark.task.Task at 0x7f14ee1b4560>,\n",
       " 'multinormal-dense-2-2-0.5': <bmi.benchmark.task.Task at 0x7f14f2cec2c0>,\n",
       " 'multinormal-dense-3-3-0.5': <bmi.benchmark.task.Task at 0x7f14ee1b4ce0>,\n",
       " 'multinormal-dense-5-5-0.5': <bmi.benchmark.task.Task at 0x7f14ee1b4d40>,\n",
       " 'multinormal-dense-25-25-0.5': <bmi.benchmark.task.Task at 0x7f14ee1b4ec0>,\n",
       " 'multinormal-dense-50-50-0.5': <bmi.benchmark.task.Task at 0x7f14ee1b5040>,\n",
       " 'multinormal-sparse-2-2-2-2.0': <bmi.benchmark.task.Task at 0x7f14ee1b5160>,\n",
       " 'multinormal-sparse-3-3-2-2.0': <bmi.benchmark.task.Task at 0x7f14ee136510>,\n",
       " 'multinormal-sparse-5-5-2-2.0': <bmi.benchmark.task.Task at 0x7f14ee1b52e0>,\n",
       " 'multinormal-sparse-25-25-2-2.0': <bmi.benchmark.task.Task at 0x7f14ee1b54f0>,\n",
       " 'student-identity-2-2-1': <bmi.benchmark.task.Task at 0x7f14ee1b5940>,\n",
       " 'student-identity-2-2-2': <bmi.benchmark.task.Task at 0x7f14ee1b5bb0>,\n",
       " 'student-identity-3-3-2': <bmi.benchmark.task.Task at 0x7f14ee1b5e20>,\n",
       " 'student-identity-3-3-3': <bmi.benchmark.task.Task at 0x7f14ee1b6090>,\n",
       " 'student-identity-5-5-2': <bmi.benchmark.task.Task at 0x7f14ee1b6300>,\n",
       " 'student-identity-5-5-3': <bmi.benchmark.task.Task at 0x7f14ee1b6570>,\n",
       " 'normal_cdf-multinormal-sparse-3-3-2-2.0': <bmi.benchmark.task.Task at 0x7f14ee1b6e10>,\n",
       " 'normal_cdf-multinormal-sparse-5-5-2-2.0': <bmi.benchmark.task.Task at 0x7f14ee1b7110>,\n",
       " 'normal_cdf-multinormal-sparse-25-25-2-2.0': <bmi.benchmark.task.Task at 0x7f14ee1b7470>,\n",
       " 'half_cube-multinormal-sparse-3-3-2-2.0': <bmi.benchmark.task.Task at 0x7f14ee1b7800>,\n",
       " 'half_cube-multinormal-sparse-5-5-2-2.0': <bmi.benchmark.task.Task at 0x7f14ee1b7b90>,\n",
       " 'half_cube-multinormal-sparse-25-25-2-2.0': <bmi.benchmark.task.Task at 0x7f14ee1b7f20>,\n",
       " 'spiral-multinormal-sparse-3-3-2-2.0': <bmi.benchmark.task.Task at 0x7f14ec0d4d70>,\n",
       " 'spiral-multinormal-sparse-5-5-2-2.0': <bmi.benchmark.task.Task at 0x7f14ec0f5ac0>,\n",
       " 'spiral-multinormal-sparse-25-25-2-2.0': <bmi.benchmark.task.Task at 0x7f14ec0d4410>,\n",
       " 'spiral-normal_cdf-multinormal-sparse-3-3-2-2.0': <bmi.benchmark.task.Task at 0x7f14b76f1730>,\n",
       " 'spiral-normal_cdf-multinormal-sparse-5-5-2-2.0': <bmi.benchmark.task.Task at 0x7f14b76da180>,\n",
       " 'spiral-normal_cdf-multinormal-sparse-25-25-2-2.0': <bmi.benchmark.task.Task at 0x7f14b76f2ab0>,\n",
       " 'asinh-student-identity-2-2-1': <bmi.benchmark.task.Task at 0x7f14b76f2f90>,\n",
       " 'asinh-student-identity-3-3-2': <bmi.benchmark.task.Task at 0x7f14b76f34a0>,\n",
       " 'asinh-student-identity-5-5-2': <bmi.benchmark.task.Task at 0x7f14b76f39e0>}"
      ]
     },
     "execution_count": 2,
     "metadata": {},
     "output_type": "execute_result"
    }
   ],
   "source": [
    "bmi.benchmark.BENCHMARK_TASKS"
   ]
  },
  {
   "cell_type": "code",
   "execution_count": 3,
   "metadata": {},
   "outputs": [
    {
     "data": {
      "text/plain": [
       "0.41333928659223396"
      ]
     },
     "execution_count": 3,
     "metadata": {},
     "output_type": "execute_result"
    }
   ],
   "source": [
    "bmi.benchmark.BENCHMARK_TASKS\n",
    "#name_task = \"1v1-normal-0.75\"\n",
    "name_task=\"1v1-normal-0.75\"\n",
    "task = bmi.benchmark.BENCHMARK_TASKS[name_task]\n",
    "task.mutual_information"
   ]
  },
  {
   "cell_type": "code",
   "execution_count": 4,
   "metadata": {},
   "outputs": [],
   "source": [
    "args = get_default_config()\n",
    "args.type =\"c\"\n",
    "args.test_epoch=2\n",
    "args.max_epochs=25\n",
    "args.warmup_epochs = 0\n",
    "args.bs =512\n",
    "args.lr = 1e-3\n",
    "args.arch = \"mlp\"\n",
    "args.importance_sampling = True\n",
    "args.use_ema = True\n",
    "args.input_dim = 2\n"
   ]
  },
  {
   "cell_type": "code",
   "execution_count": 5,
   "metadata": {},
   "outputs": [],
   "source": [
    "X, Y = task.sample(1000, seed=42)\n",
    "var_list = {}"
   ]
  },
  {
   "cell_type": "code",
   "execution_count": 6,
   "metadata": {},
   "outputs": [
    {
     "data": {
      "text/plain": [
       "(1000, 1)"
      ]
     },
     "execution_count": 6,
     "metadata": {},
     "output_type": "execute_result"
    }
   ],
   "source": [
    "X.shape"
   ]
  },
  {
   "cell_type": "code",
   "execution_count": 7,
   "metadata": {},
   "outputs": [
    {
     "ename": "RuntimeError",
     "evalue": "Found no NVIDIA driver on your system. Please check that you have an NVIDIA GPU and installed a driver from http://www.nvidia.com/Download/index.aspx",
     "output_type": "error",
     "traceback": [
      "\u001b[0;31m---------------------------------------------------------------------------\u001b[0m",
      "\u001b[0;31mRuntimeError\u001b[0m                              Traceback (most recent call last)",
      "Cell \u001b[0;32mIn[7], line 2\u001b[0m\n\u001b[1;32m      1\u001b[0m var_list \u001b[38;5;241m=\u001b[39m {\u001b[38;5;124m\"\u001b[39m\u001b[38;5;124mx\u001b[39m\u001b[38;5;124m\"\u001b[39m: \u001b[38;5;241m1\u001b[39m, \u001b[38;5;124m\"\u001b[39m\u001b[38;5;124my\u001b[39m\u001b[38;5;124m\"\u001b[39m: \u001b[38;5;241m1\u001b[39m}\n\u001b[0;32m----> 2\u001b[0m model \u001b[38;5;241m=\u001b[39m \u001b[43mMINDE\u001b[49m\u001b[43m(\u001b[49m\u001b[43margs\u001b[49m\u001b[43m,\u001b[49m\u001b[43m \u001b[49m\u001b[43mvar_list\u001b[49m\u001b[38;5;241;43m=\u001b[39;49m\u001b[43mvar_list\u001b[49m\u001b[43m)\u001b[49m\n\u001b[1;32m      3\u001b[0m model(X, Y)\n",
      "File \u001b[0;32m~/minde/minde/minde.py:53\u001b[0m, in \u001b[0;36mMINDE.__init__\u001b[0;34m(self, args, gt, var_list)\u001b[0m\n\u001b[1;32m     50\u001b[0m     \u001b[38;5;28;01mraise\u001b[39;00m \u001b[38;5;167;01mNotImplementedError\u001b[39;00m\n\u001b[1;32m     51\u001b[0m \u001b[38;5;28mself\u001b[39m\u001b[38;5;241m.\u001b[39mmodel_ema \u001b[38;5;241m=\u001b[39m EMA(\u001b[38;5;28mself\u001b[39m\u001b[38;5;241m.\u001b[39mscore, decay\u001b[38;5;241m=\u001b[39m\u001b[38;5;241m0.999\u001b[39m) \u001b[38;5;28;01mif\u001b[39;00m \u001b[38;5;28mself\u001b[39m\u001b[38;5;241m.\u001b[39margs\u001b[38;5;241m.\u001b[39muse_ema \u001b[38;5;28;01melse\u001b[39;00m \u001b[38;5;28;01mNone\u001b[39;00m\n\u001b[0;32m---> 53\u001b[0m \u001b[38;5;28mself\u001b[39m\u001b[38;5;241m.\u001b[39msde \u001b[38;5;241m=\u001b[39m \u001b[43mVP_SDE\u001b[49m\u001b[43m(\u001b[49m\u001b[43mimportance_sampling\u001b[49m\u001b[38;5;241;43m=\u001b[39;49m\u001b[38;5;28;43mself\u001b[39;49m\u001b[38;5;241;43m.\u001b[39;49m\u001b[43margs\u001b[49m\u001b[38;5;241;43m.\u001b[39;49m\u001b[43mimportance_sampling\u001b[49m\u001b[43m,\u001b[49m\n\u001b[1;32m     54\u001b[0m \u001b[43m                  \u001b[49m\u001b[43mvar_sizes\u001b[49m\u001b[38;5;241;43m=\u001b[39;49m\u001b[38;5;28;43mself\u001b[39;49m\u001b[38;5;241;43m.\u001b[39;49m\u001b[43msizes\u001b[49m\u001b[43m,\u001b[49m\u001b[38;5;28;43mtype\u001b[39;49m\u001b[43m \u001b[49m\u001b[38;5;241;43m=\u001b[39;49m\u001b[38;5;28;43mself\u001b[39;49m\u001b[38;5;241;43m.\u001b[39;49m\u001b[43margs\u001b[49m\u001b[38;5;241;43m.\u001b[39;49m\u001b[43mtype\u001b[49m\n\u001b[1;32m     55\u001b[0m \u001b[43m                  \u001b[49m\u001b[43m)\u001b[49m\n",
      "File \u001b[0;32m~/minde/minde/libs/SDE.py:30\u001b[0m, in \u001b[0;36mVP_SDE.__init__\u001b[0;34m(self, beta_min, beta_max, N, importance_sampling, type, weight_s_functions, var_sizes)\u001b[0m\n\u001b[1;32m     28\u001b[0m \u001b[38;5;28mself\u001b[39m\u001b[38;5;241m.\u001b[39mdevice \u001b[38;5;241m=\u001b[39m \u001b[38;5;124m\"\u001b[39m\u001b[38;5;124mcuda\u001b[39m\u001b[38;5;124m\"\u001b[39m\n\u001b[1;32m     29\u001b[0m \u001b[38;5;28mself\u001b[39m\u001b[38;5;241m.\u001b[39mtype \u001b[38;5;241m=\u001b[39m \u001b[38;5;28mtype\u001b[39m\n\u001b[0;32m---> 30\u001b[0m \u001b[38;5;28mself\u001b[39m\u001b[38;5;241m.\u001b[39mmasks \u001b[38;5;241m=\u001b[39m \u001b[38;5;28;43mself\u001b[39;49m\u001b[38;5;241;43m.\u001b[39;49m\u001b[43mget_masks_training\u001b[49m\u001b[43m(\u001b[49m\u001b[43m)\u001b[49m\n",
      "File \u001b[0;32m~/minde/minde/libs/SDE.py:130\u001b[0m, in \u001b[0;36mVP_SDE.get_masks_training\u001b[0;34m(self)\u001b[0m\n\u001b[1;32m    127\u001b[0m     masks\u001b[38;5;241m=\u001b[39m np\u001b[38;5;241m.\u001b[39marray([[\u001b[38;5;241m1\u001b[39m,\u001b[38;5;241m1\u001b[39m],[\u001b[38;5;241m1\u001b[39m,\u001b[38;5;241m0\u001b[39m],[\u001b[38;5;241m0\u001b[39m,\u001b[38;5;241m1\u001b[39m]])  \n\u001b[1;32m    129\u001b[0m \u001b[38;5;28;01mif\u001b[39;00m \u001b[38;5;28mself\u001b[39m\u001b[38;5;241m.\u001b[39mweight_s_functions:\n\u001b[0;32m--> 130\u001b[0m     \u001b[38;5;28;01mreturn\u001b[39;00m \u001b[43mtorch\u001b[49m\u001b[38;5;241;43m.\u001b[39;49m\u001b[43mtensor\u001b[49m\u001b[43m(\u001b[49m\u001b[38;5;28;43mself\u001b[39;49m\u001b[38;5;241;43m.\u001b[39;49m\u001b[43mweight_masks\u001b[49m\u001b[43m(\u001b[49m\u001b[43mmasks\u001b[49m\u001b[43m)\u001b[49m\u001b[43m,\u001b[49m\u001b[43m \u001b[49m\u001b[43mdevice\u001b[49m\u001b[38;5;241;43m=\u001b[39;49m\u001b[38;5;28;43mself\u001b[39;49m\u001b[38;5;241;43m.\u001b[39;49m\u001b[43mdevice\u001b[49m\u001b[43m)\u001b[49m\n\u001b[1;32m    131\u001b[0m \u001b[38;5;28;01melse\u001b[39;00m:\n\u001b[1;32m    132\u001b[0m     \u001b[38;5;28;01mreturn\u001b[39;00m  torch\u001b[38;5;241m.\u001b[39mtensor(masks, device\u001b[38;5;241m=\u001b[39m\u001b[38;5;28mself\u001b[39m\u001b[38;5;241m.\u001b[39mdevice)\n",
      "File \u001b[0;32m~/miniconda3/envs/minde/lib/python3.12/site-packages/torch/cuda/__init__.py:302\u001b[0m, in \u001b[0;36m_lazy_init\u001b[0;34m()\u001b[0m\n\u001b[1;32m    300\u001b[0m \u001b[38;5;28;01mif\u001b[39;00m \u001b[38;5;124m\"\u001b[39m\u001b[38;5;124mCUDA_MODULE_LOADING\u001b[39m\u001b[38;5;124m\"\u001b[39m \u001b[38;5;129;01mnot\u001b[39;00m \u001b[38;5;129;01min\u001b[39;00m os\u001b[38;5;241m.\u001b[39menviron:\n\u001b[1;32m    301\u001b[0m     os\u001b[38;5;241m.\u001b[39menviron[\u001b[38;5;124m\"\u001b[39m\u001b[38;5;124mCUDA_MODULE_LOADING\u001b[39m\u001b[38;5;124m\"\u001b[39m] \u001b[38;5;241m=\u001b[39m \u001b[38;5;124m\"\u001b[39m\u001b[38;5;124mLAZY\u001b[39m\u001b[38;5;124m\"\u001b[39m\n\u001b[0;32m--> 302\u001b[0m \u001b[43mtorch\u001b[49m\u001b[38;5;241;43m.\u001b[39;49m\u001b[43m_C\u001b[49m\u001b[38;5;241;43m.\u001b[39;49m\u001b[43m_cuda_init\u001b[49m\u001b[43m(\u001b[49m\u001b[43m)\u001b[49m\n\u001b[1;32m    303\u001b[0m \u001b[38;5;66;03m# Some of the queued calls may reentrantly call _lazy_init();\u001b[39;00m\n\u001b[1;32m    304\u001b[0m \u001b[38;5;66;03m# we need to just return without initializing in that case.\u001b[39;00m\n\u001b[1;32m    305\u001b[0m \u001b[38;5;66;03m# However, we must not let any *other* threads in!\u001b[39;00m\n\u001b[1;32m    306\u001b[0m _tls\u001b[38;5;241m.\u001b[39mis_initializing \u001b[38;5;241m=\u001b[39m \u001b[38;5;28;01mTrue\u001b[39;00m\n",
      "\u001b[0;31mRuntimeError\u001b[0m: Found no NVIDIA driver on your system. Please check that you have an NVIDIA GPU and installed a driver from http://www.nvidia.com/Download/index.aspx"
     ]
    }
   ],
   "source": [
    "var_list = {\"x\": 1, \"y\": 1}\n",
    "model = MINDE(args, var_list=var_list)\n",
    "model(X, Y)"
   ]
  }
 ],
 "metadata": {
  "kernelspec": {
   "display_name": "Python 3 (ipykernel)",
   "language": "python",
   "name": "python3"
  },
  "language_info": {
   "codemirror_mode": {
    "name": "ipython",
    "version": 3
   },
   "file_extension": ".py",
   "mimetype": "text/x-python",
   "name": "python",
   "nbconvert_exporter": "python",
   "pygments_lexer": "ipython3",
   "version": "3.12.5"
  }
 },
 "nbformat": 4,
 "nbformat_minor": 4
}
