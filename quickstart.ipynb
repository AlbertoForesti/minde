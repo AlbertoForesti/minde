{
 "cells": [
  {
   "cell_type": "code",
   "execution_count": 1,
   "metadata": {},
   "outputs": [],
   "source": [
    "import jax\n",
    "jax.config.update('jax_platforms', 'cpu')\n",
    "import bmi\n",
    "from minde.minde import MINDE\n",
    "from minde.scripts.helper import get_data_loader, get_default_config"
   ]
  },
  {
   "cell_type": "code",
   "execution_count": 2,
   "metadata": {},
   "outputs": [
    {
     "data": {
      "text/plain": [
       "{'1v1-normal-0.75': <bmi.benchmark.task.Task at 0x7fce43d16a20>,\n",
       " 'normal_cdf-1v1-normal-0.75': <bmi.benchmark.task.Task at 0x7fce46eda7e0>,\n",
       " '1v1-additive-0.1': <bmi.benchmark.task.Task at 0x7fce44868680>,\n",
       " '1v1-additive-0.75': <bmi.benchmark.task.Task at 0x7fce43b87590>,\n",
       " '1v1-bimodal-0.75': <bmi.benchmark.task.Task at 0x7fce43bb02c0>,\n",
       " 'wiggly-1v1-normal-0.75': <bmi.benchmark.task.Task at 0x7fce43b875f0>,\n",
       " 'half_cube-1v1-normal-0.75': <bmi.benchmark.task.Task at 0x7fce43bb08c0>,\n",
       " 'student-identity-1-1-1': <bmi.benchmark.task.Task at 0x7fce476beff0>,\n",
       " 'asinh-student-identity-1-1-1': <bmi.benchmark.task.Task at 0x7fce43c71490>,\n",
       " 'swissroll_x-normal_cdf-1v1-normal-0.75': <bmi.benchmark.task.Task at 0x7fce43bb0f50>,\n",
       " 'multinormal-dense-2-2-0.5': <bmi.benchmark.task.Task at 0x7fce43bb12b0>,\n",
       " 'multinormal-dense-3-3-0.5': <bmi.benchmark.task.Task at 0x7fce43bb1700>,\n",
       " 'multinormal-dense-5-5-0.5': <bmi.benchmark.task.Task at 0x7fce43c71160>,\n",
       " 'multinormal-dense-25-25-0.5': <bmi.benchmark.task.Task at 0x7fce43bb18b0>,\n",
       " 'multinormal-dense-50-50-0.5': <bmi.benchmark.task.Task at 0x7fce43bb1a30>,\n",
       " 'multinormal-sparse-2-2-2-2.0': <bmi.benchmark.task.Task at 0x7fce43c72300>,\n",
       " 'multinormal-sparse-3-3-2-2.0': <bmi.benchmark.task.Task at 0x7fce43c71c10>,\n",
       " 'multinormal-sparse-5-5-2-2.0': <bmi.benchmark.task.Task at 0x7fce44d9b140>,\n",
       " 'multinormal-sparse-25-25-2-2.0': <bmi.benchmark.task.Task at 0x7fce43bb1e80>,\n",
       " 'student-identity-2-2-1': <bmi.benchmark.task.Task at 0x7fce43bb22d0>,\n",
       " 'student-identity-2-2-2': <bmi.benchmark.task.Task at 0x7fce43bb2540>,\n",
       " 'student-identity-3-3-2': <bmi.benchmark.task.Task at 0x7fce43bb27b0>,\n",
       " 'student-identity-3-3-3': <bmi.benchmark.task.Task at 0x7fce43bb2a20>,\n",
       " 'student-identity-5-5-2': <bmi.benchmark.task.Task at 0x7fce43bb2c90>,\n",
       " 'student-identity-5-5-3': <bmi.benchmark.task.Task at 0x7fce43bb2f00>,\n",
       " 'normal_cdf-multinormal-sparse-3-3-2-2.0': <bmi.benchmark.task.Task at 0x7fce43bb17c0>,\n",
       " 'normal_cdf-multinormal-sparse-5-5-2-2.0': <bmi.benchmark.task.Task at 0x7fce43bb3b90>,\n",
       " 'normal_cdf-multinormal-sparse-25-25-2-2.0': <bmi.benchmark.task.Task at 0x7fce43bb3e60>,\n",
       " 'half_cube-multinormal-sparse-3-3-2-2.0': <bmi.benchmark.task.Task at 0x7fce43c30230>,\n",
       " 'half_cube-multinormal-sparse-5-5-2-2.0': <bmi.benchmark.task.Task at 0x7fce43c305c0>,\n",
       " 'half_cube-multinormal-sparse-25-25-2-2.0': <bmi.benchmark.task.Task at 0x7fce43c30950>,\n",
       " 'spiral-multinormal-sparse-3-3-2-2.0': <bmi.benchmark.task.Task at 0x7fce41ac05f0>,\n",
       " 'spiral-multinormal-sparse-5-5-2-2.0': <bmi.benchmark.task.Task at 0x7fce41ac2e70>,\n",
       " 'spiral-multinormal-sparse-25-25-2-2.0': <bmi.benchmark.task.Task at 0x7fce41b221b0>,\n",
       " 'spiral-normal_cdf-multinormal-sparse-3-3-2-2.0': <bmi.benchmark.task.Task at 0x7fce41b3d520>,\n",
       " 'spiral-normal_cdf-multinormal-sparse-5-5-2-2.0': <bmi.benchmark.task.Task at 0x7fce41b3e030>,\n",
       " 'spiral-normal_cdf-multinormal-sparse-25-25-2-2.0': <bmi.benchmark.task.Task at 0x7fce41b3eb10>,\n",
       " 'asinh-student-identity-2-2-1': <bmi.benchmark.task.Task at 0x7fce41b3c290>,\n",
       " 'asinh-student-identity-3-3-2': <bmi.benchmark.task.Task at 0x7fce41b3f5f0>,\n",
       " 'asinh-student-identity-5-5-2': <bmi.benchmark.task.Task at 0x7fce41b3fb00>}"
      ]
     },
     "execution_count": 2,
     "metadata": {},
     "output_type": "execute_result"
    }
   ],
   "source": [
    "bmi.benchmark.BENCHMARK_TASKS"
   ]
  },
  {
   "cell_type": "code",
   "execution_count": 3,
   "metadata": {},
   "outputs": [
    {
     "data": {
      "text/plain": [
       "0.41333928659223396"
      ]
     },
     "execution_count": 3,
     "metadata": {},
     "output_type": "execute_result"
    }
   ],
   "source": [
    "bmi.benchmark.BENCHMARK_TASKS\n",
    "name_task = \"1v1-normal-0.75\"\n",
    "# name_task = \"spiral-multinormal-sparse-25-25-2-2.0\"\n",
    "# name_task=\"spiral-normal_cdf-multinormal-sparse-5-5-2-2.0\"\n",
    "task = bmi.benchmark.BENCHMARK_TASKS[name_task]\n",
    "task.mutual_information"
   ]
  },
  {
   "cell_type": "code",
   "execution_count": 4,
   "metadata": {},
   "outputs": [],
   "source": [
    "args = get_default_config()\n",
    "args.type =\"j\"\n",
    "args.importance_sampling = True\n",
    "args.use_ema = True\n",
    "args.checkpoint_dir = r\"/home/foresti/minde/checkpoints\"\n"
   ]
  },
  {
   "cell_type": "code",
   "execution_count": 5,
   "metadata": {},
   "outputs": [
    {
     "data": {
      "text/plain": [
       "1"
      ]
     },
     "execution_count": 5,
     "metadata": {},
     "output_type": "execute_result"
    }
   ],
   "source": [
    "task.dim_x\n",
    "task.dim_y"
   ]
  },
  {
   "cell_type": "code",
   "execution_count": 6,
   "metadata": {},
   "outputs": [],
   "source": [
    "X, Y = task.sample(100000, seed=42)\n",
    "var_list = {}"
   ]
  },
  {
   "cell_type": "code",
   "execution_count": 7,
   "metadata": {},
   "outputs": [
    {
     "name": "stdout",
     "output_type": "stream",
     "text": [
      "(100000, 1)\n",
      "<class 'numpy.ndarray'>\n"
     ]
    }
   ],
   "source": [
    "print(X.shape)\n",
    "print(type(X))"
   ]
  },
  {
   "cell_type": "code",
   "execution_count": null,
   "metadata": {},
   "outputs": [
    {
     "name": "stderr",
     "output_type": "stream",
     "text": [
      "GPU available: True (cuda), used: True\n",
      "TPU available: False, using: 0 TPU cores\n",
      "IPU available: False, using: 0 IPUs\n",
      "HPU available: False, using: 0 HPUs\n",
      "LOCAL_RANK: 0 - CUDA_VISIBLE_DEVICES: [0,1,2,3]\n",
      "\n",
      "  | Name      | Type           | Params\n",
      "---------------------------------------------\n",
      "0 | score     | UnetMLP_simple | 42.8 K\n",
      "1 | model_ema | EMA            | 42.8 K\n",
      "---------------------------------------------\n",
      "85.5 K    Trainable params\n",
      "0         Non-trainable params\n",
      "85.5 K    Total params\n",
      "0.342     Total estimated model params size (MB)\n"
     ]
    },
    {
     "data": {
      "application/vnd.jupyter.widget-view+json": {
       "model_id": "60f133dbde184428b4a032e96adc0068",
       "version_major": 2,
       "version_minor": 0
      },
      "text/plain": [
       "Sanity Checking: |          | 0/? [00:00<?, ?it/s]"
      ]
     },
     "metadata": {},
     "output_type": "display_data"
    },
    {
     "name": "stderr",
     "output_type": "stream",
     "text": [
      "/home/foresti/miniconda3/envs/minde/lib/python3.12/site-packages/pytorch_lightning/trainer/connectors/data_connector.py:441: The 'val_dataloader' does not have many workers which may be a bottleneck. Consider increasing the value of the `num_workers` argument` to `num_workers=63` in the `DataLoader` to improve performance.\n",
      "/home/foresti/miniconda3/envs/minde/lib/python3.12/site-packages/pytorch_lightning/trainer/connectors/data_connector.py:441: The 'train_dataloader' does not have many workers which may be a bottleneck. Consider increasing the value of the `num_workers` argument` to `num_workers=63` in the `DataLoader` to improve performance.\n"
     ]
    },
    {
     "data": {
      "application/vnd.jupyter.widget-view+json": {
       "model_id": "9be02d335fcc46ae9217ff40a51c06cc",
       "version_major": 2,
       "version_minor": 0
      },
      "text/plain": [
       "Training: |          | 0/? [00:00<?, ?it/s]"
      ]
     },
     "metadata": {},
     "output_type": "display_data"
    },
    {
     "name": "stdout",
     "output_type": "stream",
     "text": [
      "Epoch:  1  GT:  Not given MINDE_estimate:  0.971 MINDE_sigma_estimate:  0.299\n",
      "Epoch:  2  GT:  Not given MINDE_estimate:  0.88 MINDE_sigma_estimate:  0.261\n",
      "Epoch:  3  GT:  Not given MINDE_estimate:  0.694 MINDE_sigma_estimate:  0.296\n",
      "Epoch:  4  GT:  Not given MINDE_estimate:  0.587 MINDE_sigma_estimate:  0.31\n"
     ]
    }
   ],
   "source": [
    "var_list = {\"x\": task.dim_x, \"y\": task.dim_y}\n",
    "model = MINDE(args, var_list=var_list)\n",
    "val = model(X, Y, std=True)"
   ]
  },
  {
   "cell_type": "code",
   "execution_count": 9,
   "metadata": {},
   "outputs": [
    {
     "name": "stdout",
     "output_type": "stream",
     "text": [
      "(0.4091713488101959, 0.41129655838012696)\n"
     ]
    }
   ],
   "source": [
    "print(val)"
   ]
  }
 ],
 "metadata": {
  "kernelspec": {
   "display_name": "Python 3 (ipykernel)",
   "language": "python",
   "name": "python3"
  },
  "language_info": {
   "codemirror_mode": {
    "name": "ipython",
    "version": 3
   },
   "file_extension": ".py",
   "mimetype": "text/x-python",
   "name": "python",
   "nbconvert_exporter": "python",
   "pygments_lexer": "ipython3",
   "version": "3.12.5"
  }
 },
 "nbformat": 4,
 "nbformat_minor": 4
}
